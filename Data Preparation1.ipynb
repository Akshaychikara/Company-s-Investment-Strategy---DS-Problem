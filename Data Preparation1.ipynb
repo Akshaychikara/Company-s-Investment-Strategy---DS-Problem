{
 "cells": [
  {
   "cell_type": "code",
   "execution_count": 1,
   "metadata": {},
   "outputs": [],
   "source": [
    "import pandas as pd\n",
    "import numpy as np\n",
    "from matplotlib import pyplot as plt\n",
    "%matplotlib inline\n",
    "import seaborn as sns\n",
    "import os"
   ]
  },
  {
   "cell_type": "markdown",
   "metadata": {},
   "source": [
    "#### Q1 - Why encoding parater, what was in file that make it use"
   ]
  },
  {
   "cell_type": "code",
   "execution_count": 2,
   "metadata": {},
   "outputs": [],
   "source": [
    "os.getcwd()\n",
    "company = pd.read_csv('companies[1].txt', \n",
    "                      sep=\"\\t\", encoding= 'unicode_escape')"
   ]
  },
  {
   "cell_type": "code",
   "execution_count": 3,
   "metadata": {},
   "outputs": [],
   "source": [
    "mapping = pd.read_csv('mapping[1].csv')"
   ]
  },
  {
   "cell_type": "code",
   "execution_count": 4,
   "metadata": {},
   "outputs": [],
   "source": [
    "# Note encoding parameter\n",
    "round2 = pd.read_csv('rounds2[1].csv', \n",
    "                     encoding= 'unicode_escape')"
   ]
  },
  {
   "cell_type": "code",
   "execution_count": 5,
   "metadata": {},
   "outputs": [
    {
     "data": {
      "text/html": [
       "<div>\n",
       "<style scoped>\n",
       "    .dataframe tbody tr th:only-of-type {\n",
       "        vertical-align: middle;\n",
       "    }\n",
       "\n",
       "    .dataframe tbody tr th {\n",
       "        vertical-align: top;\n",
       "    }\n",
       "\n",
       "    .dataframe thead th {\n",
       "        text-align: right;\n",
       "    }\n",
       "</style>\n",
       "<table border=\"1\" class=\"dataframe\">\n",
       "  <thead>\n",
       "    <tr style=\"text-align: right;\">\n",
       "      <th></th>\n",
       "      <th>permalink</th>\n",
       "      <th>name</th>\n",
       "      <th>homepage_url</th>\n",
       "      <th>category_list</th>\n",
       "      <th>status</th>\n",
       "      <th>country_code</th>\n",
       "      <th>state_code</th>\n",
       "      <th>region</th>\n",
       "      <th>city</th>\n",
       "      <th>founded_at</th>\n",
       "    </tr>\n",
       "  </thead>\n",
       "  <tbody>\n",
       "    <tr>\n",
       "      <th>0</th>\n",
       "      <td>/Organization/-Fame</td>\n",
       "      <td>#fame</td>\n",
       "      <td>http://livfame.com</td>\n",
       "      <td>Media</td>\n",
       "      <td>operating</td>\n",
       "      <td>IND</td>\n",
       "      <td>16</td>\n",
       "      <td>Mumbai</td>\n",
       "      <td>Mumbai</td>\n",
       "      <td>NaN</td>\n",
       "    </tr>\n",
       "    <tr>\n",
       "      <th>1</th>\n",
       "      <td>/Organization/-Qounter</td>\n",
       "      <td>:Qounter</td>\n",
       "      <td>http://www.qounter.com</td>\n",
       "      <td>Application Platforms|Real Time|Social Network...</td>\n",
       "      <td>operating</td>\n",
       "      <td>USA</td>\n",
       "      <td>DE</td>\n",
       "      <td>DE - Other</td>\n",
       "      <td>Delaware City</td>\n",
       "      <td>04-09-2014</td>\n",
       "    </tr>\n",
       "    <tr>\n",
       "      <th>2</th>\n",
       "      <td>/Organization/-The-One-Of-Them-Inc-</td>\n",
       "      <td>(THE) ONE of THEM,Inc.</td>\n",
       "      <td>http://oneofthem.jp</td>\n",
       "      <td>Apps|Games|Mobile</td>\n",
       "      <td>operating</td>\n",
       "      <td>NaN</td>\n",
       "      <td>NaN</td>\n",
       "      <td>NaN</td>\n",
       "      <td>NaN</td>\n",
       "      <td>NaN</td>\n",
       "    </tr>\n",
       "    <tr>\n",
       "      <th>3</th>\n",
       "      <td>/Organization/0-6-Com</td>\n",
       "      <td>0-6.com</td>\n",
       "      <td>http://www.0-6.com</td>\n",
       "      <td>Curated Web</td>\n",
       "      <td>operating</td>\n",
       "      <td>CHN</td>\n",
       "      <td>22</td>\n",
       "      <td>Beijing</td>\n",
       "      <td>Beijing</td>\n",
       "      <td>01-01-2007</td>\n",
       "    </tr>\n",
       "    <tr>\n",
       "      <th>4</th>\n",
       "      <td>/Organization/004-Technologies</td>\n",
       "      <td>004 Technologies</td>\n",
       "      <td>http://004gmbh.de/en/004-interact</td>\n",
       "      <td>Software</td>\n",
       "      <td>operating</td>\n",
       "      <td>USA</td>\n",
       "      <td>IL</td>\n",
       "      <td>Springfield, Illinois</td>\n",
       "      <td>Champaign</td>\n",
       "      <td>01-01-2010</td>\n",
       "    </tr>\n",
       "  </tbody>\n",
       "</table>\n",
       "</div>"
      ],
      "text/plain": [
       "                             permalink                    name  \\\n",
       "0                  /Organization/-Fame                   #fame   \n",
       "1               /Organization/-Qounter                :Qounter   \n",
       "2  /Organization/-The-One-Of-Them-Inc-  (THE) ONE of THEM,Inc.   \n",
       "3                /Organization/0-6-Com                 0-6.com   \n",
       "4       /Organization/004-Technologies        004 Technologies   \n",
       "\n",
       "                        homepage_url  \\\n",
       "0                 http://livfame.com   \n",
       "1             http://www.qounter.com   \n",
       "2                http://oneofthem.jp   \n",
       "3                 http://www.0-6.com   \n",
       "4  http://004gmbh.de/en/004-interact   \n",
       "\n",
       "                                       category_list     status country_code  \\\n",
       "0                                              Media  operating          IND   \n",
       "1  Application Platforms|Real Time|Social Network...  operating          USA   \n",
       "2                                  Apps|Games|Mobile  operating          NaN   \n",
       "3                                        Curated Web  operating          CHN   \n",
       "4                                           Software  operating          USA   \n",
       "\n",
       "  state_code                 region           city  founded_at  \n",
       "0         16                 Mumbai         Mumbai         NaN  \n",
       "1         DE             DE - Other  Delaware City  04-09-2014  \n",
       "2        NaN                    NaN            NaN         NaN  \n",
       "3         22                Beijing        Beijing  01-01-2007  \n",
       "4         IL  Springfield, Illinois      Champaign  01-01-2010  "
      ]
     },
     "execution_count": 5,
     "metadata": {},
     "output_type": "execute_result"
    }
   ],
   "source": [
    "company.head()"
   ]
  },
  {
   "cell_type": "code",
   "execution_count": 6,
   "metadata": {},
   "outputs": [
    {
     "data": {
      "text/html": [
       "<div>\n",
       "<style scoped>\n",
       "    .dataframe tbody tr th:only-of-type {\n",
       "        vertical-align: middle;\n",
       "    }\n",
       "\n",
       "    .dataframe tbody tr th {\n",
       "        vertical-align: top;\n",
       "    }\n",
       "\n",
       "    .dataframe thead th {\n",
       "        text-align: right;\n",
       "    }\n",
       "</style>\n",
       "<table border=\"1\" class=\"dataframe\">\n",
       "  <thead>\n",
       "    <tr style=\"text-align: right;\">\n",
       "      <th></th>\n",
       "      <th>category_list</th>\n",
       "      <th>Automotive &amp; Sports</th>\n",
       "      <th>Blanks</th>\n",
       "      <th>Cleantech / Semiconductors</th>\n",
       "      <th>Entertainment</th>\n",
       "      <th>Health</th>\n",
       "      <th>Manufacturing</th>\n",
       "      <th>News, Search and Messaging</th>\n",
       "      <th>Others</th>\n",
       "      <th>Social, Finance, Analytics, Advertising</th>\n",
       "    </tr>\n",
       "  </thead>\n",
       "  <tbody>\n",
       "    <tr>\n",
       "      <th>0</th>\n",
       "      <td>NaN</td>\n",
       "      <td>0</td>\n",
       "      <td>1</td>\n",
       "      <td>0</td>\n",
       "      <td>0</td>\n",
       "      <td>0</td>\n",
       "      <td>0</td>\n",
       "      <td>0</td>\n",
       "      <td>0</td>\n",
       "      <td>0</td>\n",
       "    </tr>\n",
       "    <tr>\n",
       "      <th>1</th>\n",
       "      <td>3D</td>\n",
       "      <td>0</td>\n",
       "      <td>0</td>\n",
       "      <td>0</td>\n",
       "      <td>0</td>\n",
       "      <td>0</td>\n",
       "      <td>1</td>\n",
       "      <td>0</td>\n",
       "      <td>0</td>\n",
       "      <td>0</td>\n",
       "    </tr>\n",
       "    <tr>\n",
       "      <th>2</th>\n",
       "      <td>3D Printing</td>\n",
       "      <td>0</td>\n",
       "      <td>0</td>\n",
       "      <td>0</td>\n",
       "      <td>0</td>\n",
       "      <td>0</td>\n",
       "      <td>1</td>\n",
       "      <td>0</td>\n",
       "      <td>0</td>\n",
       "      <td>0</td>\n",
       "    </tr>\n",
       "    <tr>\n",
       "      <th>3</th>\n",
       "      <td>3D Technology</td>\n",
       "      <td>0</td>\n",
       "      <td>0</td>\n",
       "      <td>0</td>\n",
       "      <td>0</td>\n",
       "      <td>0</td>\n",
       "      <td>1</td>\n",
       "      <td>0</td>\n",
       "      <td>0</td>\n",
       "      <td>0</td>\n",
       "    </tr>\n",
       "    <tr>\n",
       "      <th>4</th>\n",
       "      <td>Accounting</td>\n",
       "      <td>0</td>\n",
       "      <td>0</td>\n",
       "      <td>0</td>\n",
       "      <td>0</td>\n",
       "      <td>0</td>\n",
       "      <td>0</td>\n",
       "      <td>0</td>\n",
       "      <td>0</td>\n",
       "      <td>1</td>\n",
       "    </tr>\n",
       "  </tbody>\n",
       "</table>\n",
       "</div>"
      ],
      "text/plain": [
       "   category_list  Automotive & Sports  Blanks  Cleantech / Semiconductors  \\\n",
       "0            NaN                    0       1                           0   \n",
       "1             3D                    0       0                           0   \n",
       "2    3D Printing                    0       0                           0   \n",
       "3  3D Technology                    0       0                           0   \n",
       "4     Accounting                    0       0                           0   \n",
       "\n",
       "   Entertainment  Health  Manufacturing  News, Search and Messaging  Others  \\\n",
       "0              0       0              0                           0       0   \n",
       "1              0       0              1                           0       0   \n",
       "2              0       0              1                           0       0   \n",
       "3              0       0              1                           0       0   \n",
       "4              0       0              0                           0       0   \n",
       "\n",
       "   Social, Finance, Analytics, Advertising  \n",
       "0                                        0  \n",
       "1                                        0  \n",
       "2                                        0  \n",
       "3                                        0  \n",
       "4                                        1  "
      ]
     },
     "execution_count": 6,
     "metadata": {},
     "output_type": "execute_result"
    }
   ],
   "source": [
    "mapping.head()"
   ]
  },
  {
   "cell_type": "code",
   "execution_count": 7,
   "metadata": {},
   "outputs": [
    {
     "data": {
      "text/html": [
       "<div>\n",
       "<style scoped>\n",
       "    .dataframe tbody tr th:only-of-type {\n",
       "        vertical-align: middle;\n",
       "    }\n",
       "\n",
       "    .dataframe tbody tr th {\n",
       "        vertical-align: top;\n",
       "    }\n",
       "\n",
       "    .dataframe thead th {\n",
       "        text-align: right;\n",
       "    }\n",
       "</style>\n",
       "<table border=\"1\" class=\"dataframe\">\n",
       "  <thead>\n",
       "    <tr style=\"text-align: right;\">\n",
       "      <th></th>\n",
       "      <th>company_permalink</th>\n",
       "      <th>funding_round_permalink</th>\n",
       "      <th>funding_round_type</th>\n",
       "      <th>funding_round_code</th>\n",
       "      <th>funded_at</th>\n",
       "      <th>raised_amount_usd</th>\n",
       "    </tr>\n",
       "  </thead>\n",
       "  <tbody>\n",
       "    <tr>\n",
       "      <th>0</th>\n",
       "      <td>/organization/-fame</td>\n",
       "      <td>/funding-round/9a01d05418af9f794eebff7ace91f638</td>\n",
       "      <td>venture</td>\n",
       "      <td>B</td>\n",
       "      <td>05-01-2015</td>\n",
       "      <td>10000000.0</td>\n",
       "    </tr>\n",
       "    <tr>\n",
       "      <th>1</th>\n",
       "      <td>/ORGANIZATION/-QOUNTER</td>\n",
       "      <td>/funding-round/22dacff496eb7acb2b901dec1dfe5633</td>\n",
       "      <td>venture</td>\n",
       "      <td>A</td>\n",
       "      <td>14-10-2014</td>\n",
       "      <td>NaN</td>\n",
       "    </tr>\n",
       "    <tr>\n",
       "      <th>2</th>\n",
       "      <td>/organization/-qounter</td>\n",
       "      <td>/funding-round/b44fbb94153f6cdef13083530bb48030</td>\n",
       "      <td>seed</td>\n",
       "      <td>NaN</td>\n",
       "      <td>01-03-2014</td>\n",
       "      <td>700000.0</td>\n",
       "    </tr>\n",
       "    <tr>\n",
       "      <th>3</th>\n",
       "      <td>/ORGANIZATION/-THE-ONE-OF-THEM-INC-</td>\n",
       "      <td>/funding-round/650b8f704416801069bb178a1418776b</td>\n",
       "      <td>venture</td>\n",
       "      <td>B</td>\n",
       "      <td>30-01-2014</td>\n",
       "      <td>3406878.0</td>\n",
       "    </tr>\n",
       "    <tr>\n",
       "      <th>4</th>\n",
       "      <td>/organization/0-6-com</td>\n",
       "      <td>/funding-round/5727accaeaa57461bd22a9bdd945382d</td>\n",
       "      <td>venture</td>\n",
       "      <td>A</td>\n",
       "      <td>19-03-2008</td>\n",
       "      <td>2000000.0</td>\n",
       "    </tr>\n",
       "  </tbody>\n",
       "</table>\n",
       "</div>"
      ],
      "text/plain": [
       "                     company_permalink  \\\n",
       "0                  /organization/-fame   \n",
       "1               /ORGANIZATION/-QOUNTER   \n",
       "2               /organization/-qounter   \n",
       "3  /ORGANIZATION/-THE-ONE-OF-THEM-INC-   \n",
       "4                /organization/0-6-com   \n",
       "\n",
       "                           funding_round_permalink funding_round_type  \\\n",
       "0  /funding-round/9a01d05418af9f794eebff7ace91f638            venture   \n",
       "1  /funding-round/22dacff496eb7acb2b901dec1dfe5633            venture   \n",
       "2  /funding-round/b44fbb94153f6cdef13083530bb48030               seed   \n",
       "3  /funding-round/650b8f704416801069bb178a1418776b            venture   \n",
       "4  /funding-round/5727accaeaa57461bd22a9bdd945382d            venture   \n",
       "\n",
       "  funding_round_code   funded_at  raised_amount_usd  \n",
       "0                  B  05-01-2015         10000000.0  \n",
       "1                  A  14-10-2014                NaN  \n",
       "2                NaN  01-03-2014           700000.0  \n",
       "3                  B  30-01-2014          3406878.0  \n",
       "4                  A  19-03-2008          2000000.0  "
      ]
     },
     "execution_count": 7,
     "metadata": {},
     "output_type": "execute_result"
    }
   ],
   "source": [
    "round2.head()"
   ]
  },
  {
   "cell_type": "markdown",
   "metadata": {},
   "source": [
    "#### Lets explore 1st table - company"
   ]
  },
  {
   "cell_type": "code",
   "execution_count": 8,
   "metadata": {},
   "outputs": [
    {
     "data": {
      "text/plain": [
       "66103"
      ]
     },
     "execution_count": 8,
     "metadata": {},
     "output_type": "execute_result"
    }
   ],
   "source": [
    "# lets see how many different companies are there\n",
    "company['name'].unique().shape[0]"
   ]
  },
  {
   "cell_type": "code",
   "execution_count": 9,
   "metadata": {},
   "outputs": [],
   "source": [
    "# Lets see which top 20 countries has maximum companies\n",
    "country_wise_company = company.groupby(['country_code'])['name'].count()\n",
    "cwc = country_wise_company.sort_values(ascending = False).head(20)"
   ]
  },
  {
   "cell_type": "code",
   "execution_count": 10,
   "metadata": {},
   "outputs": [
    {
     "data": {
      "text/plain": [
       "<matplotlib.axes._subplots.AxesSubplot at 0x19a7cb53e48>"
      ]
     },
     "execution_count": 10,
     "metadata": {},
     "output_type": "execute_result"
    },
    {
     "data": {
      "image/png": "[encoded data removed]",
      "text/plain": [
       "<matplotlib.figure.Figure at 0x19a7cb53358>"
      ]
     },
     "metadata": {},
     "output_type": "display_data"
    }
   ],
   "source": [
    "%matplotlib inline\n",
    "cwc.plot(kind = 'bar')"
   ]
  },
  {
   "cell_type": "code",
   "execution_count": 11,
   "metadata": {},
   "outputs": [],
   "source": [
    "# Lets see the different status of companies\n",
    "company_status = company['status'].value_counts()"
   ]
  },
  {
   "cell_type": "code",
   "execution_count": 12,
   "metadata": {},
   "outputs": [
    {
     "data": {
      "text/plain": [
       "<matplotlib.axes._subplots.AxesSubplot at 0x19a7bb209b0>"
      ]
     },
     "execution_count": 12,
     "metadata": {},
     "output_type": "execute_result"
    },
    {
     "data": {
      "image/png": "[encoded data removed]",
      "text/plain": [
       "<matplotlib.figure.Figure at 0x19a7ba34390>"
      ]
     },
     "metadata": {},
     "output_type": "display_data"
    }
   ],
   "source": [
    "company_status.plot(kind='bar')"
   ]
  },
  {
   "cell_type": "code",
   "execution_count": 13,
   "metadata": {},
   "outputs": [
    {
     "data": {
      "text/plain": [
       "<matplotlib.axes._subplots.AxesSubplot at 0x19a7bdf6438>"
      ]
     },
     "execution_count": 13,
     "metadata": {},
     "output_type": "execute_result"
    },
    {
     "data": {
      "image/png": "[encoded data removed]",
      "text/plain": [
       "<matplotlib.figure.Figure at 0x19a7bdc25f8>"
      ]
     },
     "metadata": {},
     "output_type": "display_data"
    }
   ],
   "source": [
    "# I want to see the company count those are closed in countries with company status\n",
    "comp_closed = company[company['status']=='closed'].groupby(['country_code'])['name'].count()\n",
    "comp_closed = comp_closed.sort_values(ascending = False).head(10)\n",
    "\n",
    "comp_closed.plot(kind='bar')"
   ]
  },
  {
   "cell_type": "code",
   "execution_count": 14,
   "metadata": {},
   "outputs": [],
   "source": [
    "# contory wise companies those are in different status\n",
    "comp_operating = company[company['status']=='operating'].groupby(['country_code'])['name'].count()\n",
    "comp_operating = comp_operating.sort_values(ascending = False).head(10)\n",
    "\n",
    "comp_acquired = company[company['status']=='acquired'].groupby(['country_code'])['name'].count()\n",
    "comp_acquired = comp_acquired.sort_values(ascending = False).head(10)\n",
    "\n",
    "comp_ipo = company[company['status']=='ipo'].groupby(['country_code'])['name'].count()\n",
    "comp_ipo = comp_ipo.sort_values(ascending = False).head(10)\n",
    "\n",
    "# fig, ax = plt.subplots(1,3)\n",
    "# fig= plt.figure(figsize=(2,2))\n",
    "# ax[0].plot(comp_operating)\n",
    "# ax[1].plot()\n",
    "# ax[2].plot()\n"
   ]
  },
  {
   "cell_type": "code",
   "execution_count": 15,
   "metadata": {},
   "outputs": [
    {
     "data": {
      "text/plain": [
       "<matplotlib.axes._subplots.AxesSubplot at 0x19a7bb26940>"
      ]
     },
     "execution_count": 15,
     "metadata": {},
     "output_type": "execute_result"
    },
    {
     "data": {
      "image/png": "[encoded data removed]",
      "text/plain": [
       "<matplotlib.figure.Figure at 0x19a7ba25e80>"
      ]
     },
     "metadata": {},
     "output_type": "display_data"
    }
   ],
   "source": [
    "comp_operating.plot(kind='bar')"
   ]
  },
  {
   "cell_type": "code",
   "execution_count": 16,
   "metadata": {},
   "outputs": [
    {
     "data": {
      "text/plain": [
       "<matplotlib.axes._subplots.AxesSubplot at 0x19a7becba20>"
      ]
     },
     "execution_count": 16,
     "metadata": {},
     "output_type": "execute_result"
    },
    {
     "data": {
      "image/png": "[encoded data removed]",
      "text/plain": [
       "<matplotlib.figure.Figure at 0x19a7be71cc0>"
      ]
     },
     "metadata": {},
     "output_type": "display_data"
    }
   ],
   "source": [
    "comp_acquired.plot(kind='bar')"
   ]
  },
  {
   "cell_type": "code",
   "execution_count": 17,
   "metadata": {},
   "outputs": [
    {
     "data": {
      "text/plain": [
       "<matplotlib.axes._subplots.AxesSubplot at 0x19a7bf11fd0>"
      ]
     },
     "execution_count": 17,
     "metadata": {},
     "output_type": "execute_result"
    },
    {
     "data": {
      "image/png": "[encoded data removed]",
      "text/plain": [
       "<matplotlib.figure.Figure at 0x19a7bf69080>"
      ]
     },
     "metadata": {},
     "output_type": "display_data"
    }
   ],
   "source": [
    "comp_ipo.plot(kind='bar')"
   ]
  },
  {
   "cell_type": "markdown",
   "metadata": {},
   "source": [
    "#### Q2 -  How to plot bar plots for all three from plt.subplots()"
   ]
  },
  {
   "cell_type": "code",
   "execution_count": null,
   "metadata": {},
   "outputs": [],
   "source": []
  },
  {
   "cell_type": "code",
   "execution_count": null,
   "metadata": {},
   "outputs": [],
   "source": []
  },
  {
   "cell_type": "code",
   "execution_count": 18,
   "metadata": {},
   "outputs": [
    {
     "name": "stdout",
     "output_type": "stream",
     "text": [
      "<class 'pandas.core.frame.DataFrame'>\n",
      "RangeIndex: 66368 entries, 0 to 66367\n",
      "Data columns (total 10 columns):\n",
      "permalink        66368 non-null object\n",
      "name             66367 non-null object\n",
      "homepage_url     61310 non-null object\n",
      "category_list    63220 non-null object\n",
      "status           66368 non-null object\n",
      "country_code     59410 non-null object\n",
      "state_code       57821 non-null object\n",
      "region           58338 non-null object\n",
      "city             58340 non-null object\n",
      "founded_at       51147 non-null object\n",
      "dtypes: object(10)\n",
      "memory usage: 5.1+ MB\n"
     ]
    }
   ],
   "source": [
    "company.info()"
   ]
  },
  {
   "cell_type": "code",
   "execution_count": 21,
   "metadata": {},
   "outputs": [
    {
     "data": {
      "text/plain": [
       "<matplotlib.axes._subplots.AxesSubplot at 0x19a7d9525c0>"
      ]
     },
     "execution_count": 21,
     "metadata": {},
     "output_type": "execute_result"
    },
    {
     "data": {
      "image/png": "[encoded data removed]",
      "text/plain": [
       "<matplotlib.figure.Figure at 0x19a7d94de80>"
      ]
     },
     "metadata": {},
     "output_type": "display_data"
    }
   ],
   "source": [
    "# check null values\n",
    "#import seaborn as sns\n",
    "sns.heatmap(company.isna(), cmap='viridis', yticklabels=False, cbar=False)"
   ]
  },
  {
   "cell_type": "code",
   "execution_count": 22,
   "metadata": {},
   "outputs": [
    {
     "data": {
      "text/plain": [
       "permalink            0\n",
       "name                 1\n",
       "homepage_url      5058\n",
       "category_list     3148\n",
       "status               0\n",
       "country_code      6958\n",
       "state_code        8547\n",
       "region            8030\n",
       "city              8028\n",
       "founded_at       15221\n",
       "dtype: int64"
      ]
     },
     "execution_count": 22,
     "metadata": {},
     "output_type": "execute_result"
    }
   ],
   "source": [
    "company.isna().sum()"
   ]
  },
  {
   "cell_type": "code",
   "execution_count": 23,
   "metadata": {},
   "outputs": [
    {
     "data": {
      "text/html": [
       "<div>\n",
       "<style scoped>\n",
       "    .dataframe tbody tr th:only-of-type {\n",
       "        vertical-align: middle;\n",
       "    }\n",
       "\n",
       "    .dataframe tbody tr th {\n",
       "        vertical-align: top;\n",
       "    }\n",
       "\n",
       "    .dataframe thead th {\n",
       "        text-align: right;\n",
       "    }\n",
       "</style>\n",
       "<table border=\"1\" class=\"dataframe\">\n",
       "  <thead>\n",
       "    <tr style=\"text-align: right;\">\n",
       "      <th></th>\n",
       "      <th>permalink</th>\n",
       "      <th>name</th>\n",
       "      <th>homepage_url</th>\n",
       "      <th>category_list</th>\n",
       "      <th>status</th>\n",
       "      <th>country_code</th>\n",
       "      <th>state_code</th>\n",
       "      <th>region</th>\n",
       "      <th>city</th>\n",
       "      <th>founded_at</th>\n",
       "    </tr>\n",
       "  </thead>\n",
       "  <tbody>\n",
       "    <tr>\n",
       "      <th>0</th>\n",
       "      <td>/Organization/-Fame</td>\n",
       "      <td>#fame</td>\n",
       "      <td>http://livfame.com</td>\n",
       "      <td>Media</td>\n",
       "      <td>operating</td>\n",
       "      <td>IND</td>\n",
       "      <td>16</td>\n",
       "      <td>Mumbai</td>\n",
       "      <td>Mumbai</td>\n",
       "      <td>NaN</td>\n",
       "    </tr>\n",
       "  </tbody>\n",
       "</table>\n",
       "</div>"
      ],
      "text/plain": [
       "             permalink   name        homepage_url category_list     status  \\\n",
       "0  /Organization/-Fame  #fame  http://livfame.com         Media  operating   \n",
       "\n",
       "  country_code state_code  region    city founded_at  \n",
       "0          IND         16  Mumbai  Mumbai        NaN  "
      ]
     },
     "execution_count": 23,
     "metadata": {},
     "output_type": "execute_result"
    }
   ],
   "source": [
    "company.head(1)"
   ]
  },
  {
   "cell_type": "code",
   "execution_count": 24,
   "metadata": {},
   "outputs": [
    {
     "data": {
      "text/plain": [
       "27297"
      ]
     },
     "execution_count": 24,
     "metadata": {},
     "output_type": "execute_result"
    }
   ],
   "source": [
    "# explore category_list column\n",
    "company['category_list'].unique().shape[0]"
   ]
  },
  {
   "cell_type": "code",
   "execution_count": 25,
   "metadata": {},
   "outputs": [
    {
     "data": {
      "text/plain": [
       "Software               3995\n",
       "Biotechnology          3615\n",
       "E-Commerce             1332\n",
       "Mobile                 1177\n",
       "Clean Technology       1133\n",
       "Curated Web            1050\n",
       "Hardware + Software     932\n",
       "Health Care             930\n",
       "Games                   862\n",
       "Enterprise Software     845\n",
       "Manufacturing           773\n",
       "Health and Wellness     770\n",
       "Advertising             700\n",
       "Education               585\n",
       "Semiconductors          501\n",
       "Finance                 447\n",
       "Real Estate             425\n",
       "Consulting              423\n",
       "Security                410\n",
       "Social Media            407\n",
       "Name: category_list, dtype: int64"
      ]
     },
     "execution_count": 25,
     "metadata": {},
     "output_type": "execute_result"
    }
   ],
   "source": [
    "# top 20 categories (row count wise)\n",
    "cat_counts = company['category_list'].value_counts().sort_values(ascending = False).head(20)\n",
    "cat_counts"
   ]
  },
  {
   "cell_type": "code",
   "execution_count": null,
   "metadata": {},
   "outputs": [],
   "source": [
    "# In company categoty_list there are multiple categories (seperated by |) mentioned for a company \n",
    "# Lets extract each category from it and create new row for each in table and delete original row\n",
    "from tqdm import tqdm_notebook as tqdm\n",
    "\n",
    "# cat_col = company['category_list']\n",
    "# company_new = pd.DataFrame(columns=company.columns)\n",
    "# for index, data in tqdm(cat_col.iteritems()):\n",
    "#   #  print(index, data)\n",
    "#     cats = []\n",
    "#     row = company.iloc[index]\n",
    "#     if(type(data) != str):\n",
    "#         company_new = company_new.append(row, ignore_index=True)\n",
    "#         continue\n",
    "    \n",
    "#     if '|' in data:\n",
    "#         cats = data.split('|')\n",
    "#       #  print(cats)\n",
    "#         for i in range(len(cats)):\n",
    "#             company_new = company_new.append(row, ignore_index=True)\n",
    "#           #  print(cats[i])\n",
    "#             ind = company_new.shape[0] - 1\n",
    "#             company_new.loc[ind,'category_list'] = cats[i]\n",
    "#     else:\n",
    "#         company_new = company_new.append(row, ignore_index=True)\n",
    "    "
   ]
  },
  {
   "cell_type": "code",
   "execution_count": null,
   "metadata": {},
   "outputs": [],
   "source": [
    "#company_new.shape\n"
   ]
  },
  {
   "cell_type": "code",
   "execution_count": null,
   "metadata": {},
   "outputs": [],
   "source": [
    "## check if category column still have multiple categories in one row\n",
    "cat_col = company_new['category_list']\n",
    "count = 0\n",
    "for index, data in tqdm(cat_col.iteritems()):\n",
    "    if(type(data) != type(\"Akshay\")):\n",
    "        continue\n",
    "   \n",
    "    if '|' in data:\n",
    "        count = count + 1\n",
    "        \n",
    "count\n",
    "# cool, we are good now"
   ]
  },
  {
   "cell_type": "code",
   "execution_count": null,
   "metadata": {},
   "outputs": [],
   "source": [
    "# lets see if same company listed many times and category is not mentioned\n",
    "names = company[company['category_list'].isna()]['name']\n",
    "comp_cat_list = pd.DataFrame(columns=['name','category_list'])\n",
    "for name in names:\n",
    "     comp_cat_list = comp_cat_list.append(company[(company['name'] == name) & company['category_list'].notna()][['name','category_list']], ignore_index=False)\n",
    "comp_cat_list.shape"
   ]
  },
  {
   "cell_type": "code",
   "execution_count": null,
   "metadata": {},
   "outputs": [],
   "source": []
  },
  {
   "cell_type": "code",
   "execution_count": null,
   "metadata": {},
   "outputs": [],
   "source": [
    "comp_cat_list.groupby(['name'])['category_list'].count()"
   ]
  },
  {
   "cell_type": "code",
   "execution_count": null,
   "metadata": {},
   "outputs": [],
   "source": [
    "names = company[company['country_code'].isna()]['name']\n",
    "comp_country_list = pd.DataFrame(columns=['name','cont_list'])\n",
    "for name in names:\n",
    "     comp_country_list = comp_country_list.append(company[(company['name'] == name) & company['country_code'].notna()][['name','country_code']], ignore_index=False)\n",
    "comp_country_list.shape"
   ]
  },
  {
   "cell_type": "code",
   "execution_count": null,
   "metadata": {},
   "outputs": [],
   "source": [
    "names = company[company['state_code'].isna()]['country_code']\n",
    "names = names.dropna()\n",
    "comp_state_list = pd.DataFrame(columns=['country_code','state_code'])\n",
    "for name in names:\n",
    "   # print(name)\n",
    "   # print(company[(company['country_code'] == name)][['country_code','state_code']])\n",
    "   comp_state_list = comp_state_list.append(company[(company['country_code'] == name) & company['state_code'].notna()][['country_code','state_code']], ignore_index=True)\n",
    "comp_state_list.shape"
   ]
  },
  {
   "cell_type": "code",
   "execution_count": null,
   "metadata": {},
   "outputs": [],
   "source": [
    "# Lets get rid of missing values\n",
    "company_data = company.dropna(subset = ['name','category_list','country_code','state_code','city'])"
   ]
  },
  {
   "cell_type": "code",
   "execution_count": null,
   "metadata": {},
   "outputs": [],
   "source": [
    "# does region and city has same values\n",
    "\n",
    "company[company['region'] == company['city']].count()"
   ]
  },
  {
   "cell_type": "code",
   "execution_count": null,
   "metadata": {},
   "outputs": [],
   "source": [
    "# removing few coluns from company -  permalink, homepage_url, region, founded_at\n",
    "company_data = company_data.drop(axis=1, columns=['homepage_url', 'region', 'founded_at'])\n",
    "company_data.shape"
   ]
  },
  {
   "cell_type": "code",
   "execution_count": null,
   "metadata": {},
   "outputs": [],
   "source": [
    "company_data.isna().sum()"
   ]
  },
  {
   "cell_type": "code",
   "execution_count": null,
   "metadata": {},
   "outputs": [],
   "source": [
    "company_data.isnull().sum()"
   ]
  },
  {
   "cell_type": "code",
   "execution_count": null,
   "metadata": {},
   "outputs": [],
   "source": [
    "# Lets explore the second table and merge it with first one - mapping table\n",
    "mapping.head(2)"
   ]
  },
  {
   "cell_type": "code",
   "execution_count": null,
   "metadata": {},
   "outputs": [],
   "source": [
    "mapping.info()"
   ]
  },
  {
   "cell_type": "code",
   "execution_count": null,
   "metadata": {},
   "outputs": [],
   "source": [
    "mapping.shape"
   ]
  },
  {
   "cell_type": "code",
   "execution_count": null,
   "metadata": {},
   "outputs": [],
   "source": [
    "mapping.isna().sum()"
   ]
  },
  {
   "cell_type": "code",
   "execution_count": null,
   "metadata": {},
   "outputs": [],
   "source": [
    "(mapping['Blanks'] == 1).sum()"
   ]
  },
  {
   "cell_type": "code",
   "execution_count": null,
   "metadata": {},
   "outputs": [],
   "source": [
    "mapping_data = mapping.dropna()\n",
    "mapping_data = mapping_data.drop(axis=1, columns=['Blanks'])\n",
    "mapping_data.shape"
   ]
  },
  {
   "cell_type": "code",
   "execution_count": null,
   "metadata": {},
   "outputs": [],
   "source": [
    "mapping_data.columns"
   ]
  },
  {
   "cell_type": "code",
   "execution_count": null,
   "metadata": {},
   "outputs": [],
   "source": [
    "# check if there is no duplicatge sub category listed\n",
    "mapping_data['category_list'].unique().shape[0]"
   ]
  },
  {
   "cell_type": "code",
   "execution_count": null,
   "metadata": {},
   "outputs": [],
   "source": [
    "# check if one sub category is not assigned to more than 1 category (one to many - not accepted)\n",
    "print(\"column wise sum :\")\n",
    "print(mapping_data.sum(axis=1, numeric_only=True, skipna = True).max())\n",
    "\n",
    "# check if multiple sub categories assigned to one category ( many to one - accepted) \n",
    "print(\"row wise sum : \")\n",
    "t = mapping_data.sum(axis=0, numeric_only=True, skipna = True)\n",
    "print(t)"
   ]
  },
  {
   "cell_type": "code",
   "execution_count": null,
   "metadata": {},
   "outputs": [],
   "source": [
    "t.plot(kind = 'bar')"
   ]
  },
  {
   "cell_type": "code",
   "execution_count": null,
   "metadata": {},
   "outputs": [],
   "source": [
    "# before joining tables , lets see if both tables has same category_list\n",
    "company_cat = set(company['category_list'])\n",
    "mapping_cat = set(mapping['category_list'])\n",
    "c_i_m = company_cat.intersection(mapping_cat)\n",
    "\n",
    "\n",
    "print(\"company cat : \",len(company_cat),\"\\n mapping cat : \",len(mapping_cat), \"\\n common cat : \",len(c_i_m), \n",
    "      \"\\n company-common cat : \", len(company_cat)-len(c_i_m), \"\\n mapping-common cat : \", len(mapping_cat)-len(c_i_m))"
   ]
  },
  {
   "cell_type": "code",
   "execution_count": null,
   "metadata": {},
   "outputs": [],
   "source": [
    "# Lets join two tables\n",
    "company_mapping = company_data.merge(mapping_data, left_on='category_list', right_on='category_list', how='left')\n",
    "# check indicator parameter here\n",
    "print(company_data.shape, mapping_data.shape, company_mapping.shape)"
   ]
  },
  {
   "cell_type": "code",
   "execution_count": null,
   "metadata": {},
   "outputs": [],
   "source": [
    "company_mapping"
   ]
  },
  {
   "cell_type": "code",
   "execution_count": null,
   "metadata": {},
   "outputs": [],
   "source": [
    "company_mapping.isna().sum()"
   ]
  },
  {
   "cell_type": "code",
   "execution_count": null,
   "metadata": {},
   "outputs": [],
   "source": [
    "# above mapping is not good\n",
    "# lets make a map function using fuzzy logic\n",
    "import fuzzywuzzy\n",
    "from fuzzywuzzy import process\n",
    "\n",
    "def cat_mapping(cat1, cat2):\n",
    "    '''cat1 is category that needs to be mapped , company table category in this case\n",
    "        cat2 is category into which it needs to be mapped, mapping table in this case '''\n",
    "    \n",
    "    for cat in cat1:\n",
    "        highest = process.extractOne(cat,cat2)\n",
    "        print(cat, \" -----> \", highest)\n",
    "        \n",
    "cat_mapping(company['category_list'].head(50), mapping.loc[1::]['category_list'])"
   ]
  },
  {
   "cell_type": "code",
   "execution_count": null,
   "metadata": {},
   "outputs": [],
   "source": [
    "# Lets check third table - round2\n",
    "round2.head(2)"
   ]
  },
  {
   "cell_type": "code",
   "execution_count": null,
   "metadata": {},
   "outputs": [],
   "source": [
    "round2.isna().sum()"
   ]
  },
  {
   "cell_type": "code",
   "execution_count": null,
   "metadata": {},
   "outputs": [],
   "source": [
    "catt = map(lambda cat: cat.lower(), mapping['category_list'].tail())"
   ]
  },
  {
   "cell_type": "code",
   "execution_count": null,
   "metadata": {},
   "outputs": [],
   "source": [
    "list(catt)"
   ]
  },
  {
   "cell_type": "code",
   "execution_count": null,
   "metadata": {},
   "outputs": [],
   "source": [
    "mapping['category_list'].head()"
   ]
  },
  {
   "cell_type": "code",
   "execution_count": null,
   "metadata": {},
   "outputs": [],
   "source": [
    "mapping.loc[1::]['category_list']"
   ]
  },
  {
   "cell_type": "code",
   "execution_count": null,
   "metadata": {},
   "outputs": [],
   "source": [
    "row = company['category_list'].head()"
   ]
  },
  {
   "cell_type": "code",
   "execution_count": null,
   "metadata": {},
   "outputs": [],
   "source": [
    "row.iteritems"
   ]
  },
  {
   "cell_type": "code",
   "execution_count": null,
   "metadata": {},
   "outputs": [],
   "source": [
    "for (r,i) in row.iteritems():\n",
    "    print(r,\"   \",i)"
   ]
  },
  {
   "cell_type": "code",
   "execution_count": null,
   "metadata": {},
   "outputs": [],
   "source": [
    "type(company.iloc[1])"
   ]
  },
  {
   "cell_type": "code",
   "execution_count": null,
   "metadata": {},
   "outputs": [],
   "source": [
    "d= float('NaN')\n",
    "\n",
    "type(d)"
   ]
  },
  {
   "cell_type": "code",
   "execution_count": null,
   "metadata": {},
   "outputs": [],
   "source": [
    "if(np.notnan(d)):\n",
    "    print('not na')\n",
    "else:\n",
    "    print(\"na\")"
   ]
  },
  {
   "cell_type": "code",
   "execution_count": null,
   "metadata": {},
   "outputs": [],
   "source": [
    " company.iloc[-1]['category_list']"
   ]
  },
  {
   "cell_type": "code",
   "execution_count": null,
   "metadata": {},
   "outputs": [],
   "source": [
    "company_new.head(10)"
   ]
  },
  {
   "cell_type": "code",
   "execution_count": null,
   "metadata": {},
   "outputs": [],
   "source": [
    "type(company['category_list'][0]) == str"
   ]
  },
  {
   "cell_type": "code",
   "execution_count": null,
   "metadata": {},
   "outputs": [],
   "source": []
  },
  {
   "cell_type": "code",
   "execution_count": null,
   "metadata": {},
   "outputs": [],
   "source": [
    "os.getcwd()"
   ]
  },
  {
   "cell_type": "code",
   "execution_count": null,
   "metadata": {},
   "outputs": [],
   "source": [
    "# company_new.to_csv(\"company_new.csv\")"
   ]
  },
  {
   "cell_type": "code",
   "execution_count": 28,
   "metadata": {},
   "outputs": [],
   "source": [
    "company_new = pd.read_csv(\"company_new.csv\")"
   ]
  },
  {
   "cell_type": "code",
   "execution_count": 29,
   "metadata": {},
   "outputs": [
    {
     "data": {
      "text/html": [
       "<div>\n",
       "<style scoped>\n",
       "    .dataframe tbody tr th:only-of-type {\n",
       "        vertical-align: middle;\n",
       "    }\n",
       "\n",
       "    .dataframe tbody tr th {\n",
       "        vertical-align: top;\n",
       "    }\n",
       "\n",
       "    .dataframe thead th {\n",
       "        text-align: right;\n",
       "    }\n",
       "</style>\n",
       "<table border=\"1\" class=\"dataframe\">\n",
       "  <thead>\n",
       "    <tr style=\"text-align: right;\">\n",
       "      <th></th>\n",
       "      <th>permalink</th>\n",
       "      <th>name</th>\n",
       "      <th>homepage_url</th>\n",
       "      <th>category_list</th>\n",
       "      <th>status</th>\n",
       "      <th>country_code</th>\n",
       "      <th>state_code</th>\n",
       "      <th>region</th>\n",
       "      <th>city</th>\n",
       "      <th>founded_at</th>\n",
       "    </tr>\n",
       "  </thead>\n",
       "  <tbody>\n",
       "    <tr>\n",
       "      <th>0</th>\n",
       "      <td>/Organization/-Fame</td>\n",
       "      <td>#fame</td>\n",
       "      <td>http://livfame.com</td>\n",
       "      <td>Media</td>\n",
       "      <td>operating</td>\n",
       "      <td>IND</td>\n",
       "      <td>16</td>\n",
       "      <td>Mumbai</td>\n",
       "      <td>Mumbai</td>\n",
       "      <td>NaN</td>\n",
       "    </tr>\n",
       "    <tr>\n",
       "      <th>1</th>\n",
       "      <td>/Organization/-Qounter</td>\n",
       "      <td>:Qounter</td>\n",
       "      <td>http://www.qounter.com</td>\n",
       "      <td>Application Platforms</td>\n",
       "      <td>operating</td>\n",
       "      <td>USA</td>\n",
       "      <td>DE</td>\n",
       "      <td>DE - Other</td>\n",
       "      <td>Delaware City</td>\n",
       "      <td>04-09-2014</td>\n",
       "    </tr>\n",
       "    <tr>\n",
       "      <th>2</th>\n",
       "      <td>/Organization/-Qounter</td>\n",
       "      <td>:Qounter</td>\n",
       "      <td>http://www.qounter.com</td>\n",
       "      <td>Real Time</td>\n",
       "      <td>operating</td>\n",
       "      <td>USA</td>\n",
       "      <td>DE</td>\n",
       "      <td>DE - Other</td>\n",
       "      <td>Delaware City</td>\n",
       "      <td>04-09-2014</td>\n",
       "    </tr>\n",
       "    <tr>\n",
       "      <th>3</th>\n",
       "      <td>/Organization/-Qounter</td>\n",
       "      <td>:Qounter</td>\n",
       "      <td>http://www.qounter.com</td>\n",
       "      <td>Social Network Media</td>\n",
       "      <td>operating</td>\n",
       "      <td>USA</td>\n",
       "      <td>DE</td>\n",
       "      <td>DE - Other</td>\n",
       "      <td>Delaware City</td>\n",
       "      <td>04-09-2014</td>\n",
       "    </tr>\n",
       "    <tr>\n",
       "      <th>4</th>\n",
       "      <td>/Organization/-The-One-Of-Them-Inc-</td>\n",
       "      <td>(THE) ONE of THEM,Inc.</td>\n",
       "      <td>http://oneofthem.jp</td>\n",
       "      <td>Apps</td>\n",
       "      <td>operating</td>\n",
       "      <td>NaN</td>\n",
       "      <td>NaN</td>\n",
       "      <td>NaN</td>\n",
       "      <td>NaN</td>\n",
       "      <td>NaN</td>\n",
       "    </tr>\n",
       "  </tbody>\n",
       "</table>\n",
       "</div>"
      ],
      "text/plain": [
       "                             permalink                    name  \\\n",
       "0                  /Organization/-Fame                   #fame   \n",
       "1               /Organization/-Qounter                :Qounter   \n",
       "2               /Organization/-Qounter                :Qounter   \n",
       "3               /Organization/-Qounter                :Qounter   \n",
       "4  /Organization/-The-One-Of-Them-Inc-  (THE) ONE of THEM,Inc.   \n",
       "\n",
       "             homepage_url          category_list     status country_code  \\\n",
       "0      http://livfame.com                  Media  operating          IND   \n",
       "1  http://www.qounter.com  Application Platforms  operating          USA   \n",
       "2  http://www.qounter.com              Real Time  operating          USA   \n",
       "3  http://www.qounter.com   Social Network Media  operating          USA   \n",
       "4     http://oneofthem.jp                   Apps  operating          NaN   \n",
       "\n",
       "  state_code      region           city  founded_at  \n",
       "0         16      Mumbai         Mumbai         NaN  \n",
       "1         DE  DE - Other  Delaware City  04-09-2014  \n",
       "2         DE  DE - Other  Delaware City  04-09-2014  \n",
       "3         DE  DE - Other  Delaware City  04-09-2014  \n",
       "4        NaN         NaN            NaN         NaN  "
      ]
     },
     "execution_count": 29,
     "metadata": {},
     "output_type": "execute_result"
    }
   ],
   "source": [
    "company_new = company_new.drop(['Unnamed: 0'], axis=1)\n",
    "company_new.head()\n"
   ]
  },
  {
   "cell_type": "code",
   "execution_count": null,
   "metadata": {},
   "outputs": [],
   "source": [
    "# before joining tables , lets see if both tables has same category_list\n",
    "company_new_cat = set(company_new['category_list'])\n",
    "mapping_cat = set(mapping['category_list'])\n",
    "c_i_m = company_new_cat.intersection(mapping_cat)\n",
    "\n",
    "\n",
    "print(\"company cat : \",len(company_new_cat),\"\\n mapping cat : \",len(mapping_cat), \"\\n common cat : \",len(c_i_m), \n",
    "      \"\\n company-common cat : \", len(company_new_cat)-len(c_i_m), \"\\n mapping-common cat : \", len(mapping_cat)-len(c_i_m))"
   ]
  },
  {
   "cell_type": "code",
   "execution_count": null,
   "metadata": {
    "scrolled": true
   },
   "outputs": [],
   "source": [
    "# Lets join two tables\n",
    "company_sector = company_new.merge(mapping, left_on='category_list', right_on='category_list', how='left')\n",
    "company_sector.head()"
   ]
  },
  {
   "cell_type": "code",
   "execution_count": null,
   "metadata": {},
   "outputs": [],
   "source": [
    "d=company_sector.dropna(how='any', subset=['Automotive & Sports', 'Blanks',\n",
    "       'Cleantech / Semiconductors', 'Entertainment', 'Health',\n",
    "       'Manufacturing', 'News, Search and Messaging', 'Others',\n",
    "       'Social, Finance, Analytics, Advertising'])\n",
    "d.shape"
   ]
  },
  {
   "cell_type": "code",
   "execution_count": null,
   "metadata": {},
   "outputs": [],
   "source": [
    "company_sector.shape"
   ]
  },
  {
   "cell_type": "code",
   "execution_count": null,
   "metadata": {},
   "outputs": [],
   "source": [
    "# so there are (155806 - 143311) = 12495 rows those are not mapped\n",
    "(155806 - 143311)\n",
    "\n",
    "# can we sacrifice them ?"
   ]
  },
  {
   "cell_type": "code",
   "execution_count": null,
   "metadata": {},
   "outputs": [],
   "source": [
    "# lets check how many rows we need to sacrifice if we want to remove all nan\n",
    "d=company_sector.dropna(how='any')\n",
    "d.shape\n",
    "\n"
   ]
  },
  {
   "cell_type": "code",
   "execution_count": null,
   "metadata": {},
   "outputs": [],
   "source": [
    "(155806 - 102786)\n",
    "# still we have good amount of data, but we loose 53020 rows here"
   ]
  },
  {
   "cell_type": "markdown",
   "metadata": {},
   "source": [
    "### lets not make any drop now, just preapre a dataset combining three tables and then we analyse what can we remove"
   ]
  },
  {
   "cell_type": "code",
   "execution_count": 26,
   "metadata": {},
   "outputs": [
    {
     "data": {
      "text/html": [
       "<div>\n",
       "<style scoped>\n",
       "    .dataframe tbody tr th:only-of-type {\n",
       "        vertical-align: middle;\n",
       "    }\n",
       "\n",
       "    .dataframe tbody tr th {\n",
       "        vertical-align: top;\n",
       "    }\n",
       "\n",
       "    .dataframe thead th {\n",
       "        text-align: right;\n",
       "    }\n",
       "</style>\n",
       "<table border=\"1\" class=\"dataframe\">\n",
       "  <thead>\n",
       "    <tr style=\"text-align: right;\">\n",
       "      <th></th>\n",
       "      <th>company_permalink</th>\n",
       "      <th>funding_round_permalink</th>\n",
       "      <th>funding_round_type</th>\n",
       "      <th>funding_round_code</th>\n",
       "      <th>funded_at</th>\n",
       "      <th>raised_amount_usd</th>\n",
       "    </tr>\n",
       "  </thead>\n",
       "  <tbody>\n",
       "    <tr>\n",
       "      <th>0</th>\n",
       "      <td>/organization/-fame</td>\n",
       "      <td>/funding-round/9a01d05418af9f794eebff7ace91f638</td>\n",
       "      <td>venture</td>\n",
       "      <td>B</td>\n",
       "      <td>05-01-2015</td>\n",
       "      <td>10000000.0</td>\n",
       "    </tr>\n",
       "    <tr>\n",
       "      <th>1</th>\n",
       "      <td>/ORGANIZATION/-QOUNTER</td>\n",
       "      <td>/funding-round/22dacff496eb7acb2b901dec1dfe5633</td>\n",
       "      <td>venture</td>\n",
       "      <td>A</td>\n",
       "      <td>14-10-2014</td>\n",
       "      <td>NaN</td>\n",
       "    </tr>\n",
       "    <tr>\n",
       "      <th>2</th>\n",
       "      <td>/organization/-qounter</td>\n",
       "      <td>/funding-round/b44fbb94153f6cdef13083530bb48030</td>\n",
       "      <td>seed</td>\n",
       "      <td>NaN</td>\n",
       "      <td>01-03-2014</td>\n",
       "      <td>700000.0</td>\n",
       "    </tr>\n",
       "    <tr>\n",
       "      <th>3</th>\n",
       "      <td>/ORGANIZATION/-THE-ONE-OF-THEM-INC-</td>\n",
       "      <td>/funding-round/650b8f704416801069bb178a1418776b</td>\n",
       "      <td>venture</td>\n",
       "      <td>B</td>\n",
       "      <td>30-01-2014</td>\n",
       "      <td>3406878.0</td>\n",
       "    </tr>\n",
       "    <tr>\n",
       "      <th>4</th>\n",
       "      <td>/organization/0-6-com</td>\n",
       "      <td>/funding-round/5727accaeaa57461bd22a9bdd945382d</td>\n",
       "      <td>venture</td>\n",
       "      <td>A</td>\n",
       "      <td>19-03-2008</td>\n",
       "      <td>2000000.0</td>\n",
       "    </tr>\n",
       "  </tbody>\n",
       "</table>\n",
       "</div>"
      ],
      "text/plain": [
       "                     company_permalink  \\\n",
       "0                  /organization/-fame   \n",
       "1               /ORGANIZATION/-QOUNTER   \n",
       "2               /organization/-qounter   \n",
       "3  /ORGANIZATION/-THE-ONE-OF-THEM-INC-   \n",
       "4                /organization/0-6-com   \n",
       "\n",
       "                           funding_round_permalink funding_round_type  \\\n",
       "0  /funding-round/9a01d05418af9f794eebff7ace91f638            venture   \n",
       "1  /funding-round/22dacff496eb7acb2b901dec1dfe5633            venture   \n",
       "2  /funding-round/b44fbb94153f6cdef13083530bb48030               seed   \n",
       "3  /funding-round/650b8f704416801069bb178a1418776b            venture   \n",
       "4  /funding-round/5727accaeaa57461bd22a9bdd945382d            venture   \n",
       "\n",
       "  funding_round_code   funded_at  raised_amount_usd  \n",
       "0                  B  05-01-2015         10000000.0  \n",
       "1                  A  14-10-2014                NaN  \n",
       "2                NaN  01-03-2014           700000.0  \n",
       "3                  B  30-01-2014          3406878.0  \n",
       "4                  A  19-03-2008          2000000.0  "
      ]
     },
     "execution_count": 26,
     "metadata": {},
     "output_type": "execute_result"
    }
   ],
   "source": [
    "round2.head()"
   ]
  },
  {
   "cell_type": "code",
   "execution_count": 54,
   "metadata": {},
   "outputs": [
    {
     "name": "stdout",
     "output_type": "stream",
     "text": [
      "col1:  66368 \n",
      " col2 :  66368 \n",
      " common :  66368 \n",
      " col1-common :  0 \n",
      " mapping-common cat :  0\n"
     ]
    }
   ],
   "source": [
    "# we can combine two tables at company_permalink\n",
    "# before that lets check if permalinks in both tables has same values\n",
    "# before joining tables , lets see if both tables has same category_list\n",
    "\n",
    "def check_common(col1, col2):\n",
    "    col1 = set(col1.str.lower())\n",
    "    col2 = set(col2.str.lower())\n",
    "    common = col1.intersection(col2)\n",
    "\n",
    "\n",
    "    print(\"col1: \",len(col1),\"\\n col2 : \",len(col2), \"\\n common : \",len(common), \n",
    "          \"\\n col1-common : \", len(col1)-len(common), \"\\n mapping-common cat : \", len(col2)-len(common))\n",
    "\n",
    "check_common(company_new['permalink'], round2['company_permalink'])"
   ]
  },
  {
   "cell_type": "code",
   "execution_count": 35,
   "metadata": {},
   "outputs": [
    {
     "data": {
      "text/plain": [
       "(114949,)"
      ]
     },
     "execution_count": 35,
     "metadata": {},
     "output_type": "execute_result"
    }
   ],
   "source": [
    "# How many unique companies are present in rounds2? - 90247\n",
    "round2['company_permalink'].unique().shape"
   ]
  },
  {
   "cell_type": "code",
   "execution_count": 52,
   "metadata": {},
   "outputs": [
    {
     "data": {
      "text/plain": [
       "(66368,)"
      ]
     },
     "execution_count": 52,
     "metadata": {},
     "output_type": "execute_result"
    }
   ],
   "source": [
    "# How many unique companies are present in companies - 66368\n",
    "company_new['permalink'].unique().shape"
   ]
  },
  {
   "cell_type": "code",
   "execution_count": 37,
   "metadata": {},
   "outputs": [
    {
     "data": {
      "text/plain": [
       "(66103,)"
      ]
     },
     "execution_count": 37,
     "metadata": {},
     "output_type": "execute_result"
    }
   ],
   "source": [
    "company_new['name'].unique().shape"
   ]
  },
  {
   "cell_type": "code",
   "execution_count": 45,
   "metadata": {},
   "outputs": [
    {
     "data": {
      "text/html": [
       "<div>\n",
       "<style scoped>\n",
       "    .dataframe tbody tr th:only-of-type {\n",
       "        vertical-align: middle;\n",
       "    }\n",
       "\n",
       "    .dataframe tbody tr th {\n",
       "        vertical-align: top;\n",
       "    }\n",
       "\n",
       "    .dataframe thead th {\n",
       "        text-align: right;\n",
       "    }\n",
       "</style>\n",
       "<table border=\"1\" class=\"dataframe\">\n",
       "  <thead>\n",
       "    <tr style=\"text-align: right;\">\n",
       "      <th></th>\n",
       "      <th>permalink</th>\n",
       "      <th>name</th>\n",
       "      <th>homepage_url</th>\n",
       "      <th>category_list</th>\n",
       "      <th>status</th>\n",
       "      <th>country_code</th>\n",
       "      <th>state_code</th>\n",
       "      <th>region</th>\n",
       "      <th>city</th>\n",
       "      <th>founded_at</th>\n",
       "    </tr>\n",
       "  </thead>\n",
       "  <tbody>\n",
       "    <tr>\n",
       "      <th>38823</th>\n",
       "      <td>/organization/e-cãbica</td>\n",
       "      <td>E CÃBICA</td>\n",
       "      <td>NaN</td>\n",
       "      <td>NaN</td>\n",
       "      <td>operating</td>\n",
       "      <td>NaN</td>\n",
       "      <td>NaN</td>\n",
       "      <td>NaN</td>\n",
       "      <td>NaN</td>\n",
       "      <td>NaN</td>\n",
       "    </tr>\n",
       "    <tr>\n",
       "      <th>41780</th>\n",
       "      <td>/organization/energystone-games-çµçÿ³æ¸¸æ</td>\n",
       "      <td>EnergyStone Games çµç³æ¸¸æ</td>\n",
       "      <td>NaN</td>\n",
       "      <td>Mobile Games</td>\n",
       "      <td>closed</td>\n",
       "      <td>NaN</td>\n",
       "      <td>NaN</td>\n",
       "      <td>NaN</td>\n",
       "      <td>NaN</td>\n",
       "      <td>06-01-2013</td>\n",
       "    </tr>\n",
       "    <tr>\n",
       "      <th>41781</th>\n",
       "      <td>/organization/energystone-games-çµçÿ³æ¸¸æ</td>\n",
       "      <td>EnergyStone Games çµç³æ¸¸æ</td>\n",
       "      <td>NaN</td>\n",
       "      <td>Online Gaming</td>\n",
       "      <td>closed</td>\n",
       "      <td>NaN</td>\n",
       "      <td>NaN</td>\n",
       "      <td>NaN</td>\n",
       "      <td>NaN</td>\n",
       "      <td>06-01-2013</td>\n",
       "    </tr>\n",
       "    <tr>\n",
       "      <th>60829</th>\n",
       "      <td>/organization/huizuche-com-æ ç§è½¦</td>\n",
       "      <td>Huizuche.com æ ç§è½¦</td>\n",
       "      <td>http://huizuche.com</td>\n",
       "      <td>NaN</td>\n",
       "      <td>closed</td>\n",
       "      <td>NaN</td>\n",
       "      <td>NaN</td>\n",
       "      <td>NaN</td>\n",
       "      <td>NaN</td>\n",
       "      <td>24-04-2014</td>\n",
       "    </tr>\n",
       "    <tr>\n",
       "      <th>136309</th>\n",
       "      <td>/organization/tipcat-interactive-æ²èä¿¡æ¯ç...</td>\n",
       "      <td>TipCat Interactive æ²èä¿¡æ¯ç§æ</td>\n",
       "      <td>http://www.tipcat.com</td>\n",
       "      <td>Mobile Games</td>\n",
       "      <td>closed</td>\n",
       "      <td>NaN</td>\n",
       "      <td>NaN</td>\n",
       "      <td>NaN</td>\n",
       "      <td>NaN</td>\n",
       "      <td>18-08-2009</td>\n",
       "    </tr>\n",
       "    <tr>\n",
       "      <th>136310</th>\n",
       "      <td>/organization/tipcat-interactive-æ²èä¿¡æ¯ç...</td>\n",
       "      <td>TipCat Interactive æ²èä¿¡æ¯ç§æ</td>\n",
       "      <td>http://www.tipcat.com</td>\n",
       "      <td>Online Gaming</td>\n",
       "      <td>closed</td>\n",
       "      <td>NaN</td>\n",
       "      <td>NaN</td>\n",
       "      <td>NaN</td>\n",
       "      <td>NaN</td>\n",
       "      <td>18-08-2009</td>\n",
       "    </tr>\n",
       "    <tr>\n",
       "      <th>154370</th>\n",
       "      <td>/organization/zengame-ç¦",
       "æ¸¸ç§æ</td>\n",
       "      <td>ZenGame ç¦",
       "æ¸¸ç§æ</td>\n",
       "      <td>http://www.zen-game.com</td>\n",
       "      <td>Internet</td>\n",
       "      <td>closed</td>\n",
       "      <td>NaN</td>\n",
       "      <td>NaN</td>\n",
       "      <td>NaN</td>\n",
       "      <td>NaN</td>\n",
       "      <td>17-07-2010</td>\n",
       "    </tr>\n",
       "    <tr>\n",
       "      <th>154371</th>\n",
       "      <td>/organization/zengame-ç¦",
       "æ¸¸ç§æ</td>\n",
       "      <td>ZenGame ç¦",
       "æ¸¸ç§æ</td>\n",
       "      <td>http://www.zen-game.com</td>\n",
       "      <td>Mobile Games</td>\n",
       "      <td>closed</td>\n",
       "      <td>NaN</td>\n",
       "      <td>NaN</td>\n",
       "      <td>NaN</td>\n",
       "      <td>NaN</td>\n",
       "      <td>17-07-2010</td>\n",
       "    </tr>\n",
       "    <tr>\n",
       "      <th>154372</th>\n",
       "      <td>/organization/zengame-ç¦",
       "æ¸¸ç§æ</td>\n",
       "      <td>ZenGame ç¦",
       "æ¸¸ç§æ</td>\n",
       "      <td>http://www.zen-game.com</td>\n",
       "      <td>Online Gaming</td>\n",
       "      <td>closed</td>\n",
       "      <td>NaN</td>\n",
       "      <td>NaN</td>\n",
       "      <td>NaN</td>\n",
       "      <td>NaN</td>\n",
       "      <td>17-07-2010</td>\n",
       "    </tr>\n",
       "  </tbody>\n",
       "</table>\n",
       "</div>"
      ],
      "text/plain": [
       "                                                permalink  \\\n",
       "38823                             /organization/e-cãbica   \n",
       "41780        /organization/energystone-games-çµçÿ³æ¸¸æ   \n",
       "41781        /organization/energystone-games-çµçÿ³æ¸¸æ   \n",
       "60829                /organization/huizuche-com-æ ç§è½¦   \n",
       "136309  /organization/tipcat-interactive-æ²èä¿¡æ¯ç...   \n",
       "136310  /organization/tipcat-interactive-æ²èä¿¡æ¯ç...   \n",
       "154370                 /organization/zengame-ç¦\n",
       "æ¸¸ç§æ   \n",
       "154371                 /organization/zengame-ç¦\n",
       "æ¸¸ç§æ   \n",
       "154372                 /organization/zengame-ç¦\n",
       "æ¸¸ç§æ   \n",
       "\n",
       "                                         name             homepage_url  \\\n",
       "38823                               E CÃBICA                      NaN   \n",
       "41780          EnergyStone Games çµç³æ¸¸æ                      NaN   \n",
       "41781          EnergyStone Games çµç³æ¸¸æ                      NaN   \n",
       "60829                  Huizuche.com æ ç§è½¦      http://huizuche.com   \n",
       "136309  TipCat Interactive æ²èä¿¡æ¯ç§æ    http://www.tipcat.com   \n",
       "136310  TipCat Interactive æ²èä¿¡æ¯ç§æ    http://www.tipcat.com   \n",
       "154370                   ZenGame ç¦\n",
       "æ¸¸ç§æ  http://www.zen-game.com   \n",
       "154371                   ZenGame ç¦\n",
       "æ¸¸ç§æ  http://www.zen-game.com   \n",
       "154372                   ZenGame ç¦\n",
       "æ¸¸ç§æ  http://www.zen-game.com   \n",
       "\n",
       "        category_list     status country_code state_code region city  \\\n",
       "38823             NaN  operating          NaN        NaN    NaN  NaN   \n",
       "41780    Mobile Games     closed          NaN        NaN    NaN  NaN   \n",
       "41781   Online Gaming     closed          NaN        NaN    NaN  NaN   \n",
       "60829             NaN     closed          NaN        NaN    NaN  NaN   \n",
       "136309   Mobile Games     closed          NaN        NaN    NaN  NaN   \n",
       "136310  Online Gaming     closed          NaN        NaN    NaN  NaN   \n",
       "154370       Internet     closed          NaN        NaN    NaN  NaN   \n",
       "154371   Mobile Games     closed          NaN        NaN    NaN  NaN   \n",
       "154372  Online Gaming     closed          NaN        NaN    NaN  NaN   \n",
       "\n",
       "        founded_at  \n",
       "38823          NaN  \n",
       "41780   06-01-2013  \n",
       "41781   06-01-2013  \n",
       "60829   24-04-2014  \n",
       "136309  18-08-2009  \n",
       "136310  18-08-2009  \n",
       "154370  17-07-2010  \n",
       "154371  17-07-2010  \n",
       "154372  17-07-2010  "
      ]
     },
     "execution_count": 45,
     "metadata": {},
     "output_type": "execute_result"
    }
   ],
   "source": [
    "# companies present in round2 table and not in companies table\n",
    "company_new['permalink'] = company_new['permalink'].str.lower()\n",
    "round2['company_permalink'] = round2['company_permalink'].str.lower()\n",
    "\n",
    "round2.loc[~round2['company_permalink'].isin(set(company_new['permalink'])),:]\n",
    "\n"
   ]
  },
  {
   "cell_type": "code",
   "execution_count": 46,
   "metadata": {},
   "outputs": [
    {
     "data": {
      "text/html": [
       "<div>\n",
       "<style scoped>\n",
       "    .dataframe tbody tr th:only-of-type {\n",
       "        vertical-align: middle;\n",
       "    }\n",
       "\n",
       "    .dataframe tbody tr th {\n",
       "        vertical-align: top;\n",
       "    }\n",
       "\n",
       "    .dataframe thead th {\n",
       "        text-align: right;\n",
       "    }\n",
       "</style>\n",
       "<table border=\"1\" class=\"dataframe\">\n",
       "  <thead>\n",
       "    <tr style=\"text-align: right;\">\n",
       "      <th></th>\n",
       "      <th>permalink</th>\n",
       "      <th>name</th>\n",
       "      <th>homepage_url</th>\n",
       "      <th>category_list</th>\n",
       "      <th>status</th>\n",
       "      <th>country_code</th>\n",
       "      <th>state_code</th>\n",
       "      <th>region</th>\n",
       "      <th>city</th>\n",
       "      <th>founded_at</th>\n",
       "    </tr>\n",
       "  </thead>\n",
       "  <tbody>\n",
       "    <tr>\n",
       "      <th>38823</th>\n",
       "      <td>/organization/e-cãbica</td>\n",
       "      <td>E CÃBICA</td>\n",
       "      <td>NaN</td>\n",
       "      <td>NaN</td>\n",
       "      <td>operating</td>\n",
       "      <td>NaN</td>\n",
       "      <td>NaN</td>\n",
       "      <td>NaN</td>\n",
       "      <td>NaN</td>\n",
       "      <td>NaN</td>\n",
       "    </tr>\n",
       "    <tr>\n",
       "      <th>41780</th>\n",
       "      <td>/organization/energystone-games-çµçÿ³æ¸¸æ</td>\n",
       "      <td>EnergyStone Games çµç³æ¸¸æ</td>\n",
       "      <td>NaN</td>\n",
       "      <td>Mobile Games</td>\n",
       "      <td>closed</td>\n",
       "      <td>NaN</td>\n",
       "      <td>NaN</td>\n",
       "      <td>NaN</td>\n",
       "      <td>NaN</td>\n",
       "      <td>06-01-2013</td>\n",
       "    </tr>\n",
       "    <tr>\n",
       "      <th>41781</th>\n",
       "      <td>/organization/energystone-games-çµçÿ³æ¸¸æ</td>\n",
       "      <td>EnergyStone Games çµç³æ¸¸æ</td>\n",
       "      <td>NaN</td>\n",
       "      <td>Online Gaming</td>\n",
       "      <td>closed</td>\n",
       "      <td>NaN</td>\n",
       "      <td>NaN</td>\n",
       "      <td>NaN</td>\n",
       "      <td>NaN</td>\n",
       "      <td>06-01-2013</td>\n",
       "    </tr>\n",
       "    <tr>\n",
       "      <th>60829</th>\n",
       "      <td>/organization/huizuche-com-æ ç§è½¦</td>\n",
       "      <td>Huizuche.com æ ç§è½¦</td>\n",
       "      <td>http://huizuche.com</td>\n",
       "      <td>NaN</td>\n",
       "      <td>closed</td>\n",
       "      <td>NaN</td>\n",
       "      <td>NaN</td>\n",
       "      <td>NaN</td>\n",
       "      <td>NaN</td>\n",
       "      <td>24-04-2014</td>\n",
       "    </tr>\n",
       "    <tr>\n",
       "      <th>136309</th>\n",
       "      <td>/organization/tipcat-interactive-æ²èä¿¡æ¯ç...</td>\n",
       "      <td>TipCat Interactive æ²èä¿¡æ¯ç§æ</td>\n",
       "      <td>http://www.tipcat.com</td>\n",
       "      <td>Mobile Games</td>\n",
       "      <td>closed</td>\n",
       "      <td>NaN</td>\n",
       "      <td>NaN</td>\n",
       "      <td>NaN</td>\n",
       "      <td>NaN</td>\n",
       "      <td>18-08-2009</td>\n",
       "    </tr>\n",
       "    <tr>\n",
       "      <th>136310</th>\n",
       "      <td>/organization/tipcat-interactive-æ²èä¿¡æ¯ç...</td>\n",
       "      <td>TipCat Interactive æ²èä¿¡æ¯ç§æ</td>\n",
       "      <td>http://www.tipcat.com</td>\n",
       "      <td>Online Gaming</td>\n",
       "      <td>closed</td>\n",
       "      <td>NaN</td>\n",
       "      <td>NaN</td>\n",
       "      <td>NaN</td>\n",
       "      <td>NaN</td>\n",
       "      <td>18-08-2009</td>\n",
       "    </tr>\n",
       "    <tr>\n",
       "      <th>154370</th>\n",
       "      <td>/organization/zengame-ç¦",
       "æ¸¸ç§æ</td>\n",
       "      <td>ZenGame ç¦",
       "æ¸¸ç§æ</td>\n",
       "      <td>http://www.zen-game.com</td>\n",
       "      <td>Internet</td>\n",
       "      <td>closed</td>\n",
       "      <td>NaN</td>\n",
       "      <td>NaN</td>\n",
       "      <td>NaN</td>\n",
       "      <td>NaN</td>\n",
       "      <td>17-07-2010</td>\n",
       "    </tr>\n",
       "    <tr>\n",
       "      <th>154371</th>\n",
       "      <td>/organization/zengame-ç¦",
       "æ¸¸ç§æ</td>\n",
       "      <td>ZenGame ç¦",
       "æ¸¸ç§æ</td>\n",
       "      <td>http://www.zen-game.com</td>\n",
       "      <td>Mobile Games</td>\n",
       "      <td>closed</td>\n",
       "      <td>NaN</td>\n",
       "      <td>NaN</td>\n",
       "      <td>NaN</td>\n",
       "      <td>NaN</td>\n",
       "      <td>17-07-2010</td>\n",
       "    </tr>\n",
       "    <tr>\n",
       "      <th>154372</th>\n",
       "      <td>/organization/zengame-ç¦",
       "æ¸¸ç§æ</td>\n",
       "      <td>ZenGame ç¦",
       "æ¸¸ç§æ</td>\n",
       "      <td>http://www.zen-game.com</td>\n",
       "      <td>Online Gaming</td>\n",
       "      <td>closed</td>\n",
       "      <td>NaN</td>\n",
       "      <td>NaN</td>\n",
       "      <td>NaN</td>\n",
       "      <td>NaN</td>\n",
       "      <td>17-07-2010</td>\n",
       "    </tr>\n",
       "  </tbody>\n",
       "</table>\n",
       "</div>"
      ],
      "text/plain": [
       "                                                permalink  \\\n",
       "38823                             /organization/e-cãbica   \n",
       "41780        /organization/energystone-games-çµçÿ³æ¸¸æ   \n",
       "41781        /organization/energystone-games-çµçÿ³æ¸¸æ   \n",
       "60829                /organization/huizuche-com-æ ç§è½¦   \n",
       "136309  /organization/tipcat-interactive-æ²èä¿¡æ¯ç...   \n",
       "136310  /organization/tipcat-interactive-æ²èä¿¡æ¯ç...   \n",
       "154370                 /organization/zengame-ç¦\n",
       "æ¸¸ç§æ   \n",
       "154371                 /organization/zengame-ç¦\n",
       "æ¸¸ç§æ   \n",
       "154372                 /organization/zengame-ç¦\n",
       "æ¸¸ç§æ   \n",
       "\n",
       "                                         name             homepage_url  \\\n",
       "38823                               E CÃBICA                      NaN   \n",
       "41780          EnergyStone Games çµç³æ¸¸æ                      NaN   \n",
       "41781          EnergyStone Games çµç³æ¸¸æ                      NaN   \n",
       "60829                  Huizuche.com æ ç§è½¦      http://huizuche.com   \n",
       "136309  TipCat Interactive æ²èä¿¡æ¯ç§æ    http://www.tipcat.com   \n",
       "136310  TipCat Interactive æ²èä¿¡æ¯ç§æ    http://www.tipcat.com   \n",
       "154370                   ZenGame ç¦\n",
       "æ¸¸ç§æ  http://www.zen-game.com   \n",
       "154371                   ZenGame ç¦\n",
       "æ¸¸ç§æ  http://www.zen-game.com   \n",
       "154372                   ZenGame ç¦\n",
       "æ¸¸ç§æ  http://www.zen-game.com   \n",
       "\n",
       "        category_list     status country_code state_code region city  \\\n",
       "38823             NaN  operating          NaN        NaN    NaN  NaN   \n",
       "41780    Mobile Games     closed          NaN        NaN    NaN  NaN   \n",
       "41781   Online Gaming     closed          NaN        NaN    NaN  NaN   \n",
       "60829             NaN     closed          NaN        NaN    NaN  NaN   \n",
       "136309   Mobile Games     closed          NaN        NaN    NaN  NaN   \n",
       "136310  Online Gaming     closed          NaN        NaN    NaN  NaN   \n",
       "154370       Internet     closed          NaN        NaN    NaN  NaN   \n",
       "154371   Mobile Games     closed          NaN        NaN    NaN  NaN   \n",
       "154372  Online Gaming     closed          NaN        NaN    NaN  NaN   \n",
       "\n",
       "        founded_at  \n",
       "38823          NaN  \n",
       "41780   06-01-2013  \n",
       "41781   06-01-2013  \n",
       "60829   24-04-2014  \n",
       "136309  18-08-2009  \n",
       "136310  18-08-2009  \n",
       "154370  17-07-2010  \n",
       "154371  17-07-2010  \n",
       "154372  17-07-2010  "
      ]
     },
     "execution_count": 46,
     "metadata": {},
     "output_type": "execute_result"
    }
   ],
   "source": [
    "company_new.loc[~company_new['permalink'].isin(set(round2['company_permalink'])),:]"
   ]
  },
  {
   "cell_type": "code",
   "execution_count": 48,
   "metadata": {},
   "outputs": [
    {
     "data": {
      "text/html": [
       "<div>\n",
       "<style scoped>\n",
       "    .dataframe tbody tr th:only-of-type {\n",
       "        vertical-align: middle;\n",
       "    }\n",
       "\n",
       "    .dataframe tbody tr th {\n",
       "        vertical-align: top;\n",
       "    }\n",
       "\n",
       "    .dataframe thead th {\n",
       "        text-align: right;\n",
       "    }\n",
       "</style>\n",
       "<table border=\"1\" class=\"dataframe\">\n",
       "  <thead>\n",
       "    <tr style=\"text-align: right;\">\n",
       "      <th></th>\n",
       "      <th>company_permalink</th>\n",
       "      <th>funding_round_permalink</th>\n",
       "      <th>funding_round_type</th>\n",
       "      <th>funding_round_code</th>\n",
       "      <th>funded_at</th>\n",
       "      <th>raised_amount_usd</th>\n",
       "    </tr>\n",
       "  </thead>\n",
       "  <tbody>\n",
       "    <tr>\n",
       "      <th>77</th>\n",
       "      <td>/organization/10north</td>\n",
       "      <td>/funding-round/b41ff7de932f8b6e5bbeed3966c0ed6a</td>\n",
       "      <td>equity_crowdfunding</td>\n",
       "      <td>NaN</td>\n",
       "      <td>12-08-2014</td>\n",
       "      <td>NaN</td>\n",
       "    </tr>\n",
       "    <tr>\n",
       "      <th>729</th>\n",
       "      <td>/organization/51wofang-</td>\n",
       "      <td>/funding-round/346b9180d276a74e0fbb2825e66c6f5b</td>\n",
       "      <td>venture</td>\n",
       "      <td>A</td>\n",
       "      <td>06-07-2015</td>\n",
       "      <td>5000000.0</td>\n",
       "    </tr>\n",
       "    <tr>\n",
       "      <th>2670</th>\n",
       "      <td>/organization/adslinked</td>\n",
       "      <td>/funding-round/449ae54bb63c768c232955ca6911dee4</td>\n",
       "      <td>seed</td>\n",
       "      <td>NaN</td>\n",
       "      <td>29-09-2014</td>\n",
       "      <td>100000.0</td>\n",
       "    </tr>\n",
       "    <tr>\n",
       "      <th>3166</th>\n",
       "      <td>/organization/aesthetic-everything-social-network</td>\n",
       "      <td>/funding-round/62593455f1a69857ed05d5734cc04132</td>\n",
       "      <td>equity_crowdfunding</td>\n",
       "      <td>NaN</td>\n",
       "      <td>12-10-2014</td>\n",
       "      <td>NaN</td>\n",
       "    </tr>\n",
       "    <tr>\n",
       "      <th>3291</th>\n",
       "      <td>/organization/affluent-attach-club-2</td>\n",
       "      <td>/funding-round/626678bdf1654bc4df9b1b34647a4df1</td>\n",
       "      <td>seed</td>\n",
       "      <td>NaN</td>\n",
       "      <td>15-10-2014</td>\n",
       "      <td>100000.0</td>\n",
       "    </tr>\n",
       "    <tr>\n",
       "      <th>4568</th>\n",
       "      <td>/organization/allgu-outlet</td>\n",
       "      <td>/funding-round/49e8a9b54ed19c8505ca92dc031a8e9c</td>\n",
       "      <td>venture</td>\n",
       "      <td>NaN</td>\n",
       "      <td>17-03-2015</td>\n",
       "      <td>1400000.0</td>\n",
       "    </tr>\n",
       "    <tr>\n",
       "      <th>8097</th>\n",
       "      <td>/organization/asiansbook</td>\n",
       "      <td>/funding-round/3f243ab92b4fe397d41b4734a17ca5f0</td>\n",
       "      <td>seed</td>\n",
       "      <td>NaN</td>\n",
       "      <td>15-09-2014</td>\n",
       "      <td>100000.0</td>\n",
       "    </tr>\n",
       "    <tr>\n",
       "      <th>8652</th>\n",
       "      <td>/organization/atlye-gri</td>\n",
       "      <td>/funding-round/75bdeacd95a647108aa4bc480e77894d</td>\n",
       "      <td>grant</td>\n",
       "      <td>NaN</td>\n",
       "      <td>01-11-2012</td>\n",
       "      <td>13940.0</td>\n",
       "    </tr>\n",
       "    <tr>\n",
       "      <th>9784</th>\n",
       "      <td>/organization/axgaz</td>\n",
       "      <td>/funding-round/511a41181aaf193bbd419babfb8d66e9</td>\n",
       "      <td>venture</td>\n",
       "      <td>NaN</td>\n",
       "      <td>06-07-2015</td>\n",
       "      <td>4094392.0</td>\n",
       "    </tr>\n",
       "    <tr>\n",
       "      <th>14311</th>\n",
       "      <td>/organization/boral-bikes-incorporated</td>\n",
       "      <td>/funding-round/be79575bf4b5b5d6fa64670800a3ca5e</td>\n",
       "      <td>seed</td>\n",
       "      <td>NaN</td>\n",
       "      <td>26-02-2015</td>\n",
       "      <td>NaN</td>\n",
       "    </tr>\n",
       "    <tr>\n",
       "      <th>14798</th>\n",
       "      <td>/organization/brasil-oznio</td>\n",
       "      <td>/funding-round/4e0dd70413b121d23274187704e2d91b</td>\n",
       "      <td>seed</td>\n",
       "      <td>NaN</td>\n",
       "      <td>01-07-2015</td>\n",
       "      <td>799686.0</td>\n",
       "    </tr>\n",
       "    <tr>\n",
       "      <th>14951</th>\n",
       "      <td>/organization/bricopriv-com</td>\n",
       "      <td>/funding-round/c14e573c4cea05d355a20b5ba6b0d12d</td>\n",
       "      <td>undisclosed</td>\n",
       "      <td>NaN</td>\n",
       "      <td>24-06-2015</td>\n",
       "      <td>2809272.0</td>\n",
       "    </tr>\n",
       "    <tr>\n",
       "      <th>15384</th>\n",
       "      <td>/organization/brv</td>\n",
       "      <td>/funding-round/978b27fe5c90372b11adbe33c75cdd03</td>\n",
       "      <td>seed</td>\n",
       "      <td>NaN</td>\n",
       "      <td>31-12-2014</td>\n",
       "      <td>1500.0</td>\n",
       "    </tr>\n",
       "    <tr>\n",
       "      <th>16018</th>\n",
       "      <td>/organization/bhner-eh-gmbh</td>\n",
       "      <td>/funding-round/21fde9aaef25f3e1889b8662d7540eda</td>\n",
       "      <td>seed</td>\n",
       "      <td>NaN</td>\n",
       "      <td>18-10-2010</td>\n",
       "      <td>NaN</td>\n",
       "    </tr>\n",
       "    <tr>\n",
       "      <th>16624</th>\n",
       "      <td>/organization/canal-da-pea</td>\n",
       "      <td>/funding-round/a16902fe6bd5e67a44dd222ac209fa7e</td>\n",
       "      <td>seed</td>\n",
       "      <td>NaN</td>\n",
       "      <td>19-06-2013</td>\n",
       "      <td>NaN</td>\n",
       "    </tr>\n",
       "    <tr>\n",
       "      <th>16839</th>\n",
       "      <td>/organization/cappt</td>\n",
       "      <td>/funding-round/b2b88b247a67469bc8a2df8510078290</td>\n",
       "      <td>convertible_note</td>\n",
       "      <td>NaN</td>\n",
       "      <td>01-09-2014</td>\n",
       "      <td>20228.0</td>\n",
       "    </tr>\n",
       "    <tr>\n",
       "      <th>23210</th>\n",
       "      <td>/organization/contrato-rpido</td>\n",
       "      <td>/funding-round/33fe7ab355ca20d8993d8dbe3dcd62d2</td>\n",
       "      <td>seed</td>\n",
       "      <td>NaN</td>\n",
       "      <td>01-03-2015</td>\n",
       "      <td>NaN</td>\n",
       "    </tr>\n",
       "    <tr>\n",
       "      <th>23518</th>\n",
       "      <td>/organization/cop-active-ltd</td>\n",
       "      <td>/funding-round/962d2256a1d52ffd07536d03cd90e5b3</td>\n",
       "      <td>seed</td>\n",
       "      <td>NaN</td>\n",
       "      <td>15-02-2015</td>\n",
       "      <td>154028.0</td>\n",
       "    </tr>\n",
       "    <tr>\n",
       "      <th>24932</th>\n",
       "      <td>/organization/crme-ciseaux</td>\n",
       "      <td>/funding-round/0aeedf03903b6ff7a7c5d02871842588</td>\n",
       "      <td>equity_crowdfunding</td>\n",
       "      <td>NaN</td>\n",
       "      <td>05-04-2014</td>\n",
       "      <td>276163.0</td>\n",
       "    </tr>\n",
       "    <tr>\n",
       "      <th>24933</th>\n",
       "      <td>/organization/crme-ciseaux</td>\n",
       "      <td>/funding-round/c05eea4d4b53eac40f29b4ea9ea67838</td>\n",
       "      <td>equity_crowdfunding</td>\n",
       "      <td>NaN</td>\n",
       "      <td>05-04-2014</td>\n",
       "      <td>276163.0</td>\n",
       "    </tr>\n",
       "    <tr>\n",
       "      <th>27110</th>\n",
       "      <td>/organization/desafo-tctico</td>\n",
       "      <td>/funding-round/32109a690a936b7678359619734b8cf9</td>\n",
       "      <td>convertible_note</td>\n",
       "      <td>NaN</td>\n",
       "      <td>02-08-2013</td>\n",
       "      <td>NaN</td>\n",
       "    </tr>\n",
       "    <tr>\n",
       "      <th>29597</th>\n",
       "      <td>/organization/e-cbica</td>\n",
       "      <td>/funding-round/8491f74869e4fe8ba9c378394f8fbdea</td>\n",
       "      <td>seed</td>\n",
       "      <td>NaN</td>\n",
       "      <td>01-02-2015</td>\n",
       "      <td>NaN</td>\n",
       "    </tr>\n",
       "    <tr>\n",
       "      <th>31863</th>\n",
       "      <td>/organization/energystone-games-</td>\n",
       "      <td>/funding-round/b89553f3d2279c5683ae93f45a21cfe0</td>\n",
       "      <td>seed</td>\n",
       "      <td>NaN</td>\n",
       "      <td>09-08-2014</td>\n",
       "      <td>NaN</td>\n",
       "    </tr>\n",
       "    <tr>\n",
       "      <th>33069</th>\n",
       "      <td>/organization/etool-io</td>\n",
       "      <td>/funding-round/3575ca572169fb7b320665767250355a</td>\n",
       "      <td>seed</td>\n",
       "      <td>NaN</td>\n",
       "      <td>16-02-2014</td>\n",
       "      <td>26000.0</td>\n",
       "    </tr>\n",
       "    <tr>\n",
       "      <th>37562</th>\n",
       "      <td>/organization/freem</td>\n",
       "      <td>/funding-round/34d9e77d186da2e69b68f371a3f4926e</td>\n",
       "      <td>convertible_note</td>\n",
       "      <td>NaN</td>\n",
       "      <td>16-04-2015</td>\n",
       "      <td>60000.0</td>\n",
       "    </tr>\n",
       "    <tr>\n",
       "      <th>37876</th>\n",
       "      <td>/organization/frquentiel</td>\n",
       "      <td>/funding-round/b0778e93110786d599ce8a4788adda9d</td>\n",
       "      <td>undisclosed</td>\n",
       "      <td>NaN</td>\n",
       "      <td>13-03-2015</td>\n",
       "      <td>NaN</td>\n",
       "    </tr>\n",
       "    <tr>\n",
       "      <th>39460</th>\n",
       "      <td>/organization/gesto-sade-e-tecnologia-3</td>\n",
       "      <td>/funding-round/f56dcf159f31717b4b4ddd91f732e881</td>\n",
       "      <td>venture</td>\n",
       "      <td>NaN</td>\n",
       "      <td>01-04-2013</td>\n",
       "      <td>NaN</td>\n",
       "    </tr>\n",
       "    <tr>\n",
       "      <th>42221</th>\n",
       "      <td>/organization/grfica-en-lnea</td>\n",
       "      <td>/funding-round/cb747fc6c90fa66ebc3ebe25d3377358</td>\n",
       "      <td>equity_crowdfunding</td>\n",
       "      <td>NaN</td>\n",
       "      <td>05-05-2014</td>\n",
       "      <td>150000.0</td>\n",
       "    </tr>\n",
       "    <tr>\n",
       "      <th>45176</th>\n",
       "      <td>/organization/huizuche-com-</td>\n",
       "      <td>/funding-round/8f8a32dbeeb0f831a78702f83af78a36</td>\n",
       "      <td>seed</td>\n",
       "      <td>NaN</td>\n",
       "      <td>18-09-2014</td>\n",
       "      <td>NaN</td>\n",
       "    </tr>\n",
       "    <tr>\n",
       "      <th>46281</th>\n",
       "      <td>/organization/ignia-bienes-races</td>\n",
       "      <td>/funding-round/ad8b2bf09fda2a09dcdd2ed2a86d0d9c</td>\n",
       "      <td>venture</td>\n",
       "      <td>NaN</td>\n",
       "      <td>01-09-2008</td>\n",
       "      <td>NaN</td>\n",
       "    </tr>\n",
       "    <tr>\n",
       "      <th>...</th>\n",
       "      <td>...</td>\n",
       "      <td>...</td>\n",
       "      <td>...</td>\n",
       "      <td>...</td>\n",
       "      <td>...</td>\n",
       "      <td>...</td>\n",
       "    </tr>\n",
       "    <tr>\n",
       "      <th>58474</th>\n",
       "      <td>/organization/magnet-tech-</td>\n",
       "      <td>/funding-round/be2fb8789ec4e1902c2a7e1f7313ad3d</td>\n",
       "      <td>venture</td>\n",
       "      <td>A</td>\n",
       "      <td>16-01-2015</td>\n",
       "      <td>NaN</td>\n",
       "    </tr>\n",
       "    <tr>\n",
       "      <th>60960</th>\n",
       "      <td>/organization/mercado-electrnico</td>\n",
       "      <td>/funding-round/e4a31c7eb3546cc2bc6eb0c8d05625d4</td>\n",
       "      <td>private_equity</td>\n",
       "      <td>NaN</td>\n",
       "      <td>10-03-2015</td>\n",
       "      <td>9707638.0</td>\n",
       "    </tr>\n",
       "    <tr>\n",
       "      <th>62172</th>\n",
       "      <td>/organization/ming-yazlm</td>\n",
       "      <td>/funding-round/b510e4822c0f1b4977cf988e4c5054d0</td>\n",
       "      <td>grant</td>\n",
       "      <td>NaN</td>\n",
       "      <td>04-04-2013</td>\n",
       "      <td>52583.0</td>\n",
       "    </tr>\n",
       "    <tr>\n",
       "      <th>63761</th>\n",
       "      <td>/organization/monnier-frres</td>\n",
       "      <td>/funding-round/606655ce25b330ee620137c09af4ec21</td>\n",
       "      <td>seed</td>\n",
       "      <td>NaN</td>\n",
       "      <td>30-06-2011</td>\n",
       "      <td>4616139.0</td>\n",
       "    </tr>\n",
       "    <tr>\n",
       "      <th>65471</th>\n",
       "      <td>/organization/mdica-santa-carmen-2</td>\n",
       "      <td>/funding-round/bd94fb319f6ec0e2021dcc5bfad03479</td>\n",
       "      <td>seed</td>\n",
       "      <td>NaN</td>\n",
       "      <td>01-06-2013</td>\n",
       "      <td>NaN</td>\n",
       "    </tr>\n",
       "    <tr>\n",
       "      <th>73633</th>\n",
       "      <td>/organization/patrofn</td>\n",
       "      <td>/funding-round/a49df2be4369c01a4a16b9356f5640dd</td>\n",
       "      <td>grant</td>\n",
       "      <td>NaN</td>\n",
       "      <td>01-01-2014</td>\n",
       "      <td>42607.0</td>\n",
       "    </tr>\n",
       "    <tr>\n",
       "      <th>78497</th>\n",
       "      <td>/organization/prodti-cz</td>\n",
       "      <td>/funding-round/e3e7909a3c46b470a35fcaf469bdbcae</td>\n",
       "      <td>seed</td>\n",
       "      <td>NaN</td>\n",
       "      <td>01-01-2014</td>\n",
       "      <td>NaN</td>\n",
       "    </tr>\n",
       "    <tr>\n",
       "      <th>79281</th>\n",
       "      <td>/organization/przewietl-pl</td>\n",
       "      <td>/funding-round/9fe8ed2986d279646cbcdb72c6c5128a</td>\n",
       "      <td>seed</td>\n",
       "      <td>NaN</td>\n",
       "      <td>01-01-2014</td>\n",
       "      <td>NaN</td>\n",
       "    </tr>\n",
       "    <tr>\n",
       "      <th>85619</th>\n",
       "      <td>/organization/salo-vip</td>\n",
       "      <td>/funding-round/6cc488b6bee6c0741491ef71b953dbc6</td>\n",
       "      <td>grant</td>\n",
       "      <td>NaN</td>\n",
       "      <td>01-10-2014</td>\n",
       "      <td>81462.0</td>\n",
       "    </tr>\n",
       "    <tr>\n",
       "      <th>85996</th>\n",
       "      <td>/organization/satlite-distribuidora-de-petrleo</td>\n",
       "      <td>/funding-round/a99b1d7625b01c9af80d622e61aaa511</td>\n",
       "      <td>venture</td>\n",
       "      <td>NaN</td>\n",
       "      <td>13-04-2004</td>\n",
       "      <td>NaN</td>\n",
       "    </tr>\n",
       "    <tr>\n",
       "      <th>90328</th>\n",
       "      <td>/organization/skar-is</td>\n",
       "      <td>/funding-round/4569a387b074bdc097442f9753914289</td>\n",
       "      <td>seed</td>\n",
       "      <td>NaN</td>\n",
       "      <td>25-06-2014</td>\n",
       "      <td>392492.0</td>\n",
       "    </tr>\n",
       "    <tr>\n",
       "      <th>91932</th>\n",
       "      <td>/organization/socit-internationale-de-plantati...</td>\n",
       "      <td>/funding-round/4f6d8e2551eb84c3b5c8234d19b63944</td>\n",
       "      <td>venture</td>\n",
       "      <td>NaN</td>\n",
       "      <td>22-06-2005</td>\n",
       "      <td>14300000.0</td>\n",
       "    </tr>\n",
       "    <tr>\n",
       "      <th>97158</th>\n",
       "      <td>/organization/slfar-studios</td>\n",
       "      <td>/funding-round/69c192af02bf6e34dd7210298cecdc3b</td>\n",
       "      <td>seed</td>\n",
       "      <td>NaN</td>\n",
       "      <td>11-11-2015</td>\n",
       "      <td>2100000.0</td>\n",
       "    </tr>\n",
       "    <tr>\n",
       "      <th>97571</th>\n",
       "      <td>/organization/talentsigned</td>\n",
       "      <td>/funding-round/b5e611e4c9f4f4ac6b9df67628a90382</td>\n",
       "      <td>seed</td>\n",
       "      <td>NaN</td>\n",
       "      <td>26-09-2014</td>\n",
       "      <td>100000.0</td>\n",
       "    </tr>\n",
       "    <tr>\n",
       "      <th>99945</th>\n",
       "      <td>/organization/the-vision-lab-</td>\n",
       "      <td>/funding-round/f0d1dc9c2fc5784065990cebcc4c3515</td>\n",
       "      <td>convertible_note</td>\n",
       "      <td>NaN</td>\n",
       "      <td>22-04-2015</td>\n",
       "      <td>100000.0</td>\n",
       "    </tr>\n",
       "    <tr>\n",
       "      <th>100588</th>\n",
       "      <td>/organization/th-gii-di-ng</td>\n",
       "      <td>/funding-round/a49012d798c32ae6c113b8234bdcf804</td>\n",
       "      <td>venture</td>\n",
       "      <td>NaN</td>\n",
       "      <td>28-05-2007</td>\n",
       "      <td>3500000.0</td>\n",
       "    </tr>\n",
       "    <tr>\n",
       "      <th>101036</th>\n",
       "      <td>/organization/tipcat-interactive-</td>\n",
       "      <td>/funding-round/41005928a1439cb2d706a43cb661f60f</td>\n",
       "      <td>seed</td>\n",
       "      <td>NaN</td>\n",
       "      <td>06-09-2010</td>\n",
       "      <td>NaN</td>\n",
       "    </tr>\n",
       "    <tr>\n",
       "      <th>104092</th>\n",
       "      <td>/organization/tximo</td>\n",
       "      <td>/funding-round/574466178e0b9e182f1e541c6313ea27</td>\n",
       "      <td>venture</td>\n",
       "      <td>NaN</td>\n",
       "      <td>06-09-2015</td>\n",
       "      <td>4600000.0</td>\n",
       "    </tr>\n",
       "    <tr>\n",
       "      <th>104093</th>\n",
       "      <td>/organization/to-conejo</td>\n",
       "      <td>/funding-round/f7559463034c712e16100e9466a93057</td>\n",
       "      <td>convertible_note</td>\n",
       "      <td>NaN</td>\n",
       "      <td>01-05-2014</td>\n",
       "      <td>22930.0</td>\n",
       "    </tr>\n",
       "    <tr>\n",
       "      <th>105508</th>\n",
       "      <td>/organization/vacation-bnb</td>\n",
       "      <td>/funding-round/f9cc0781977926a4132d6a0f87b0f774</td>\n",
       "      <td>seed</td>\n",
       "      <td>NaN</td>\n",
       "      <td>05-10-2014</td>\n",
       "      <td>100000.0</td>\n",
       "    </tr>\n",
       "    <tr>\n",
       "      <th>108953</th>\n",
       "      <td>/organization/v-de-txi</td>\n",
       "      <td>/funding-round/5fe845b41da2eaa8842feb65bb4d1f08</td>\n",
       "      <td>seed</td>\n",
       "      <td>NaN</td>\n",
       "      <td>10-12-2013</td>\n",
       "      <td>517241.0</td>\n",
       "    </tr>\n",
       "    <tr>\n",
       "      <th>108954</th>\n",
       "      <td>/organization/vnder-sports-network</td>\n",
       "      <td>/funding-round/63e91de54ea7451b1e2e89ffa6d37443</td>\n",
       "      <td>seed</td>\n",
       "      <td>NaN</td>\n",
       "      <td>13-04-2014</td>\n",
       "      <td>NaN</td>\n",
       "    </tr>\n",
       "    <tr>\n",
       "      <th>109968</th>\n",
       "      <td>/organization/weiche-tech-</td>\n",
       "      <td>/funding-round/27b0cd2e0b75cbceb717343ea86c2c28</td>\n",
       "      <td>angel</td>\n",
       "      <td>NaN</td>\n",
       "      <td>16-06-2014</td>\n",
       "      <td>NaN</td>\n",
       "    </tr>\n",
       "    <tr>\n",
       "      <th>109969</th>\n",
       "      <td>/organization/weiche-tech-</td>\n",
       "      <td>/funding-round/f74e457f838b81fa0b29649740f186d8</td>\n",
       "      <td>venture</td>\n",
       "      <td>A</td>\n",
       "      <td>06-09-2015</td>\n",
       "      <td>NaN</td>\n",
       "    </tr>\n",
       "    <tr>\n",
       "      <th>110516</th>\n",
       "      <td>/organization/whites-holdings</td>\n",
       "      <td>/funding-round/7407f06542934e7dd12beaacc71e8fdc</td>\n",
       "      <td>undisclosed</td>\n",
       "      <td>NaN</td>\n",
       "      <td>16-01-2015</td>\n",
       "      <td>NaN</td>\n",
       "    </tr>\n",
       "    <tr>\n",
       "      <th>110545</th>\n",
       "      <td>/organization/whodats-spaces</td>\n",
       "      <td>/funding-round/d5d6db3d1e6c54d71a63b3aa0c9278e6</td>\n",
       "      <td>seed</td>\n",
       "      <td>NaN</td>\n",
       "      <td>28-10-2014</td>\n",
       "      <td>30000.0</td>\n",
       "    </tr>\n",
       "    <tr>\n",
       "      <th>113839</th>\n",
       "      <td>/organization/zengame-</td>\n",
       "      <td>/funding-round/6ba28fb4f3eadf5a9c6c81bc5dde6cdf</td>\n",
       "      <td>seed</td>\n",
       "      <td>NaN</td>\n",
       "      <td>17-07-2010</td>\n",
       "      <td>NaN</td>\n",
       "    </tr>\n",
       "    <tr>\n",
       "      <th>114946</th>\n",
       "      <td>/organization/eron</td>\n",
       "      <td>/funding-round/59f4dce44723b794f21ded3daed6e4fe</td>\n",
       "      <td>venture</td>\n",
       "      <td>A</td>\n",
       "      <td>01-08-2014</td>\n",
       "      <td>NaN</td>\n",
       "    </tr>\n",
       "    <tr>\n",
       "      <th>114947</th>\n",
       "      <td>/organization/asys-2</td>\n",
       "      <td>/funding-round/35f09d0794651719b02bbfd859ba9ff5</td>\n",
       "      <td>seed</td>\n",
       "      <td>NaN</td>\n",
       "      <td>01-01-2015</td>\n",
       "      <td>18192.0</td>\n",
       "    </tr>\n",
       "    <tr>\n",
       "      <th>114948</th>\n",
       "      <td>/organization/novatiff-reklam-ve-tantm-hizmetl...</td>\n",
       "      <td>/funding-round/af942869878d2cd788ef5189b435ebc4</td>\n",
       "      <td>grant</td>\n",
       "      <td>NaN</td>\n",
       "      <td>01-10-2013</td>\n",
       "      <td>14851.0</td>\n",
       "    </tr>\n",
       "  </tbody>\n",
       "</table>\n",
       "<p>74 rows × 6 columns</p>\n",
       "</div>"
      ],
      "text/plain": [
       "                                        company_permalink  \\\n",
       "77                                  /organization/10north   \n",
       "729                               /organization/51wofang-   \n",
       "2670                              /organization/adslinked   \n",
       "3166    /organization/aesthetic-everything-social-network   \n",
       "3291                 /organization/affluent-attach-club-2   \n",
       "4568                           /organization/allgu-outlet   \n",
       "8097                             /organization/asiansbook   \n",
       "8652                              /organization/atlye-gri   \n",
       "9784                                  /organization/axgaz   \n",
       "14311              /organization/boral-bikes-incorporated   \n",
       "14798                          /organization/brasil-oznio   \n",
       "14951                         /organization/bricopriv-com   \n",
       "15384                                   /organization/brv   \n",
       "16018                         /organization/bhner-eh-gmbh   \n",
       "16624                          /organization/canal-da-pea   \n",
       "16839                                 /organization/cappt   \n",
       "23210                        /organization/contrato-rpido   \n",
       "23518                        /organization/cop-active-ltd   \n",
       "24932                          /organization/crme-ciseaux   \n",
       "24933                          /organization/crme-ciseaux   \n",
       "27110                         /organization/desafo-tctico   \n",
       "29597                               /organization/e-cbica   \n",
       "31863                    /organization/energystone-games-   \n",
       "33069                              /organization/etool-io   \n",
       "37562                                 /organization/freem   \n",
       "37876                            /organization/frquentiel   \n",
       "39460             /organization/gesto-sade-e-tecnologia-3   \n",
       "42221                        /organization/grfica-en-lnea   \n",
       "45176                         /organization/huizuche-com-   \n",
       "46281                    /organization/ignia-bienes-races   \n",
       "...                                                   ...   \n",
       "58474                          /organization/magnet-tech-   \n",
       "60960                    /organization/mercado-electrnico   \n",
       "62172                            /organization/ming-yazlm   \n",
       "63761                         /organization/monnier-frres   \n",
       "65471                  /organization/mdica-santa-carmen-2   \n",
       "73633                               /organization/patrofn   \n",
       "78497                             /organization/prodti-cz   \n",
       "79281                          /organization/przewietl-pl   \n",
       "85619                              /organization/salo-vip   \n",
       "85996      /organization/satlite-distribuidora-de-petrleo   \n",
       "90328                               /organization/skar-is   \n",
       "91932   /organization/socit-internationale-de-plantati...   \n",
       "97158                         /organization/slfar-studios   \n",
       "97571                          /organization/talentsigned   \n",
       "99945                       /organization/the-vision-lab-   \n",
       "100588                         /organization/th-gii-di-ng   \n",
       "101036                  /organization/tipcat-interactive-   \n",
       "104092                                /organization/tximo   \n",
       "104093                            /organization/to-conejo   \n",
       "105508                         /organization/vacation-bnb   \n",
       "108953                             /organization/v-de-txi   \n",
       "108954                 /organization/vnder-sports-network   \n",
       "109968                         /organization/weiche-tech-   \n",
       "109969                         /organization/weiche-tech-   \n",
       "110516                      /organization/whites-holdings   \n",
       "110545                       /organization/whodats-spaces   \n",
       "113839                             /organization/zengame-   \n",
       "114946                                 /organization/eron   \n",
       "114947                               /organization/asys-2   \n",
       "114948  /organization/novatiff-reklam-ve-tantm-hizmetl...   \n",
       "\n",
       "                                funding_round_permalink   funding_round_type  \\\n",
       "77      /funding-round/b41ff7de932f8b6e5bbeed3966c0ed6a  equity_crowdfunding   \n",
       "729     /funding-round/346b9180d276a74e0fbb2825e66c6f5b              venture   \n",
       "2670    /funding-round/449ae54bb63c768c232955ca6911dee4                 seed   \n",
       "3166    /funding-round/62593455f1a69857ed05d5734cc04132  equity_crowdfunding   \n",
       "3291    /funding-round/626678bdf1654bc4df9b1b34647a4df1                 seed   \n",
       "4568    /funding-round/49e8a9b54ed19c8505ca92dc031a8e9c              venture   \n",
       "8097    /funding-round/3f243ab92b4fe397d41b4734a17ca5f0                 seed   \n",
       "8652    /funding-round/75bdeacd95a647108aa4bc480e77894d                grant   \n",
       "9784    /funding-round/511a41181aaf193bbd419babfb8d66e9              venture   \n",
       "14311   /funding-round/be79575bf4b5b5d6fa64670800a3ca5e                 seed   \n",
       "14798   /funding-round/4e0dd70413b121d23274187704e2d91b                 seed   \n",
       "14951   /funding-round/c14e573c4cea05d355a20b5ba6b0d12d          undisclosed   \n",
       "15384   /funding-round/978b27fe5c90372b11adbe33c75cdd03                 seed   \n",
       "16018   /funding-round/21fde9aaef25f3e1889b8662d7540eda                 seed   \n",
       "16624   /funding-round/a16902fe6bd5e67a44dd222ac209fa7e                 seed   \n",
       "16839   /funding-round/b2b88b247a67469bc8a2df8510078290     convertible_note   \n",
       "23210   /funding-round/33fe7ab355ca20d8993d8dbe3dcd62d2                 seed   \n",
       "23518   /funding-round/962d2256a1d52ffd07536d03cd90e5b3                 seed   \n",
       "24932   /funding-round/0aeedf03903b6ff7a7c5d02871842588  equity_crowdfunding   \n",
       "24933   /funding-round/c05eea4d4b53eac40f29b4ea9ea67838  equity_crowdfunding   \n",
       "27110   /funding-round/32109a690a936b7678359619734b8cf9     convertible_note   \n",
       "29597   /funding-round/8491f74869e4fe8ba9c378394f8fbdea                 seed   \n",
       "31863   /funding-round/b89553f3d2279c5683ae93f45a21cfe0                 seed   \n",
       "33069   /funding-round/3575ca572169fb7b320665767250355a                 seed   \n",
       "37562   /funding-round/34d9e77d186da2e69b68f371a3f4926e     convertible_note   \n",
       "37876   /funding-round/b0778e93110786d599ce8a4788adda9d          undisclosed   \n",
       "39460   /funding-round/f56dcf159f31717b4b4ddd91f732e881              venture   \n",
       "42221   /funding-round/cb747fc6c90fa66ebc3ebe25d3377358  equity_crowdfunding   \n",
       "45176   /funding-round/8f8a32dbeeb0f831a78702f83af78a36                 seed   \n",
       "46281   /funding-round/ad8b2bf09fda2a09dcdd2ed2a86d0d9c              venture   \n",
       "...                                                 ...                  ...   \n",
       "58474   /funding-round/be2fb8789ec4e1902c2a7e1f7313ad3d              venture   \n",
       "60960   /funding-round/e4a31c7eb3546cc2bc6eb0c8d05625d4       private_equity   \n",
       "62172   /funding-round/b510e4822c0f1b4977cf988e4c5054d0                grant   \n",
       "63761   /funding-round/606655ce25b330ee620137c09af4ec21                 seed   \n",
       "65471   /funding-round/bd94fb319f6ec0e2021dcc5bfad03479                 seed   \n",
       "73633   /funding-round/a49df2be4369c01a4a16b9356f5640dd                grant   \n",
       "78497   /funding-round/e3e7909a3c46b470a35fcaf469bdbcae                 seed   \n",
       "79281   /funding-round/9fe8ed2986d279646cbcdb72c6c5128a                 seed   \n",
       "85619   /funding-round/6cc488b6bee6c0741491ef71b953dbc6                grant   \n",
       "85996   /funding-round/a99b1d7625b01c9af80d622e61aaa511              venture   \n",
       "90328   /funding-round/4569a387b074bdc097442f9753914289                 seed   \n",
       "91932   /funding-round/4f6d8e2551eb84c3b5c8234d19b63944              venture   \n",
       "97158   /funding-round/69c192af02bf6e34dd7210298cecdc3b                 seed   \n",
       "97571   /funding-round/b5e611e4c9f4f4ac6b9df67628a90382                 seed   \n",
       "99945   /funding-round/f0d1dc9c2fc5784065990cebcc4c3515     convertible_note   \n",
       "100588  /funding-round/a49012d798c32ae6c113b8234bdcf804              venture   \n",
       "101036  /funding-round/41005928a1439cb2d706a43cb661f60f                 seed   \n",
       "104092  /funding-round/574466178e0b9e182f1e541c6313ea27              venture   \n",
       "104093  /funding-round/f7559463034c712e16100e9466a93057     convertible_note   \n",
       "105508  /funding-round/f9cc0781977926a4132d6a0f87b0f774                 seed   \n",
       "108953  /funding-round/5fe845b41da2eaa8842feb65bb4d1f08                 seed   \n",
       "108954  /funding-round/63e91de54ea7451b1e2e89ffa6d37443                 seed   \n",
       "109968  /funding-round/27b0cd2e0b75cbceb717343ea86c2c28                angel   \n",
       "109969  /funding-round/f74e457f838b81fa0b29649740f186d8              venture   \n",
       "110516  /funding-round/7407f06542934e7dd12beaacc71e8fdc          undisclosed   \n",
       "110545  /funding-round/d5d6db3d1e6c54d71a63b3aa0c9278e6                 seed   \n",
       "113839  /funding-round/6ba28fb4f3eadf5a9c6c81bc5dde6cdf                 seed   \n",
       "114946  /funding-round/59f4dce44723b794f21ded3daed6e4fe              venture   \n",
       "114947  /funding-round/35f09d0794651719b02bbfd859ba9ff5                 seed   \n",
       "114948  /funding-round/af942869878d2cd788ef5189b435ebc4                grant   \n",
       "\n",
       "       funding_round_code   funded_at  raised_amount_usd  \n",
       "77                    NaN  12-08-2014                NaN  \n",
       "729                     A  06-07-2015          5000000.0  \n",
       "2670                  NaN  29-09-2014           100000.0  \n",
       "3166                  NaN  12-10-2014                NaN  \n",
       "3291                  NaN  15-10-2014           100000.0  \n",
       "4568                  NaN  17-03-2015          1400000.0  \n",
       "8097                  NaN  15-09-2014           100000.0  \n",
       "8652                  NaN  01-11-2012            13940.0  \n",
       "9784                  NaN  06-07-2015          4094392.0  \n",
       "14311                 NaN  26-02-2015                NaN  \n",
       "14798                 NaN  01-07-2015           799686.0  \n",
       "14951                 NaN  24-06-2015          2809272.0  \n",
       "15384                 NaN  31-12-2014             1500.0  \n",
       "16018                 NaN  18-10-2010                NaN  \n",
       "16624                 NaN  19-06-2013                NaN  \n",
       "16839                 NaN  01-09-2014            20228.0  \n",
       "23210                 NaN  01-03-2015                NaN  \n",
       "23518                 NaN  15-02-2015           154028.0  \n",
       "24932                 NaN  05-04-2014           276163.0  \n",
       "24933                 NaN  05-04-2014           276163.0  \n",
       "27110                 NaN  02-08-2013                NaN  \n",
       "29597                 NaN  01-02-2015                NaN  \n",
       "31863                 NaN  09-08-2014                NaN  \n",
       "33069                 NaN  16-02-2014            26000.0  \n",
       "37562                 NaN  16-04-2015            60000.0  \n",
       "37876                 NaN  13-03-2015                NaN  \n",
       "39460                 NaN  01-04-2013                NaN  \n",
       "42221                 NaN  05-05-2014           150000.0  \n",
       "45176                 NaN  18-09-2014                NaN  \n",
       "46281                 NaN  01-09-2008                NaN  \n",
       "...                   ...         ...                ...  \n",
       "58474                   A  16-01-2015                NaN  \n",
       "60960                 NaN  10-03-2015          9707638.0  \n",
       "62172                 NaN  04-04-2013            52583.0  \n",
       "63761                 NaN  30-06-2011          4616139.0  \n",
       "65471                 NaN  01-06-2013                NaN  \n",
       "73633                 NaN  01-01-2014            42607.0  \n",
       "78497                 NaN  01-01-2014                NaN  \n",
       "79281                 NaN  01-01-2014                NaN  \n",
       "85619                 NaN  01-10-2014            81462.0  \n",
       "85996                 NaN  13-04-2004                NaN  \n",
       "90328                 NaN  25-06-2014           392492.0  \n",
       "91932                 NaN  22-06-2005         14300000.0  \n",
       "97158                 NaN  11-11-2015          2100000.0  \n",
       "97571                 NaN  26-09-2014           100000.0  \n",
       "99945                 NaN  22-04-2015           100000.0  \n",
       "100588                NaN  28-05-2007          3500000.0  \n",
       "101036                NaN  06-09-2010                NaN  \n",
       "104092                NaN  06-09-2015          4600000.0  \n",
       "104093                NaN  01-05-2014            22930.0  \n",
       "105508                NaN  05-10-2014           100000.0  \n",
       "108953                NaN  10-12-2013           517241.0  \n",
       "108954                NaN  13-04-2014                NaN  \n",
       "109968                NaN  16-06-2014                NaN  \n",
       "109969                  A  06-09-2015                NaN  \n",
       "110516                NaN  16-01-2015                NaN  \n",
       "110545                NaN  28-10-2014            30000.0  \n",
       "113839                NaN  17-07-2010                NaN  \n",
       "114946                  A  01-08-2014                NaN  \n",
       "114947                NaN  01-01-2015            18192.0  \n",
       "114948                NaN  01-10-2013            14851.0  \n",
       "\n",
       "[74 rows x 6 columns]"
      ]
     },
     "execution_count": 48,
     "metadata": {},
     "output_type": "execute_result"
    }
   ],
   "source": [
    "# above permalinks are not english readable characters, but in excel we have proper english readable\n",
    "# looks like we have used wrong encoding\n",
    "# to fix this problem first encode the data with 'utf-8' and then decode it with 'ascii'\n",
    "\n",
    "round2['company_permalink'] = round2['company_permalink'].str.encode('utf-8').str.decode('ascii','ignore')\n",
    "round2.loc[~round2['company_permalink'].isin(set(company_new['permalink'])),:]"
   ]
  },
  {
   "cell_type": "code",
   "execution_count": 49,
   "metadata": {},
   "outputs": [
    {
     "data": {
      "text/html": [
       "<div>\n",
       "<style scoped>\n",
       "    .dataframe tbody tr th:only-of-type {\n",
       "        vertical-align: middle;\n",
       "    }\n",
       "\n",
       "    .dataframe tbody tr th {\n",
       "        vertical-align: top;\n",
       "    }\n",
       "\n",
       "    .dataframe thead th {\n",
       "        text-align: right;\n",
       "    }\n",
       "</style>\n",
       "<table border=\"1\" class=\"dataframe\">\n",
       "  <thead>\n",
       "    <tr style=\"text-align: right;\">\n",
       "      <th></th>\n",
       "      <th>permalink</th>\n",
       "      <th>name</th>\n",
       "      <th>homepage_url</th>\n",
       "      <th>category_list</th>\n",
       "      <th>status</th>\n",
       "      <th>country_code</th>\n",
       "      <th>state_code</th>\n",
       "      <th>region</th>\n",
       "      <th>city</th>\n",
       "      <th>founded_at</th>\n",
       "    </tr>\n",
       "  </thead>\n",
       "  <tbody>\n",
       "  </tbody>\n",
       "</table>\n",
       "</div>"
      ],
      "text/plain": [
       "Empty DataFrame\n",
       "Columns: [permalink, name, homepage_url, category_list, status, country_code, state_code, region, city, founded_at]\n",
       "Index: []"
      ]
     },
     "execution_count": 49,
     "metadata": {},
     "output_type": "execute_result"
    }
   ],
   "source": [
    "company_new['permalink'] = company_new['permalink'].str.encode('utf-8').str.decode('ascii','ignore')\n",
    "company_new.loc[~company_new['permalink'].isin(set(round2['company_permalink'])),:]"
   ]
  },
  {
   "cell_type": "code",
   "execution_count": 50,
   "metadata": {},
   "outputs": [],
   "source": [
    "company_new.to_csv('company_clean.csv', index = False)\n",
    "round2.to_csv('round2_clean.csv', index = False)"
   ]
  },
  {
   "cell_type": "code",
   "execution_count": 55,
   "metadata": {},
   "outputs": [
    {
     "name": "stdout",
     "output_type": "stream",
     "text": [
      "col1:  66368 \n",
      " col2 :  66368 \n",
      " common :  66368 \n",
      " col1-common :  0 \n",
      " mapping-common cat :  0\n"
     ]
    }
   ],
   "source": [
    "check_common(company_new['permalink'], round2['company_permalink'])"
   ]
  },
  {
   "cell_type": "markdown",
   "metadata": {},
   "source": [
    "## Perfect for joining now"
   ]
  },
  {
   "cell_type": "code",
   "execution_count": null,
   "metadata": {},
   "outputs": [],
   "source": []
  }
 ],
 "metadata": {
  "kernelspec": {
   "display_name": "Python 3",
   "language": "python",
   "name": "python3"
  },
  "language_info": {
   "codemirror_mode": {
    "name": "ipython",
    "version": 3
   },
   "file_extension": ".py",
   "mimetype": "text/x-python",
   "name": "python",
   "nbconvert_exporter": "python",
   "pygments_lexer": "ipython3",
   "version": "3.6.4"
  }
 },
 "nbformat": 4,
 "nbformat_minor": 2
}
